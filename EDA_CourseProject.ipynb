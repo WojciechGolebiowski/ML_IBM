{
 "cells": [
  {
   "cell_type": "code",
   "execution_count": 78,
   "id": "1ee9ba03",
   "metadata": {},
   "outputs": [],
   "source": [
    "import pandas as pd\n",
    "import numpy as np\n",
    "import seaborn as sns\n",
    "from matplotlib import pyplot as plt\n",
    "import scipy.stats as stats "
   ]
  },
  {
   "cell_type": "code",
   "execution_count": 14,
   "id": "46d32bb9",
   "metadata": {},
   "outputs": [],
   "source": [
    "flats = pd.read_excel(\"C:/Users/woote/Desktop/Python/Projects/OtoDom - Web Scraping/results.xlsx\",\n",
    "                     names = ['index','hyperlink','title','price','price_m2','year_built','area_m2','market','rooms','floor']).\\\n",
    "drop(['index','hyperlink','price_m2'],axis = 1)"
   ]
  },
  {
   "cell_type": "code",
   "execution_count": 21,
   "id": "016a38dc",
   "metadata": {},
   "outputs": [],
   "source": [
    "flats['floor'] = [int(0) if x == 'parter' else int(x) for x in flats.floor]\n",
    "flats['area_m2'] = [float(x.replace(\",\",\".\").split(\" \")[0]) for x in flats.area_m2]\n",
    "flats['year_built'] = flats['year_built'].astype('int64')\n",
    "flats['price'] = [float(x.replace('Zapytaj o cenę', '0').replace(\" zł\",\"\").replace(\" \",\"\").\\\n",
    "                        replace(\",\",\"\")) for x in flats.price]\n",
    "flats.loc[flats['price']==0.0, 'price'] = np.nan"
   ]
  },
  {
   "cell_type": "code",
   "execution_count": 22,
   "id": "77dbd381",
   "metadata": {},
   "outputs": [
    {
     "data": {
      "text/plain": [
       "title          object\n",
       "price         float64\n",
       "year_built      int64\n",
       "area_m2       float64\n",
       "market         object\n",
       "rooms           int64\n",
       "floor           int64\n",
       "dtype: object"
      ]
     },
     "execution_count": 22,
     "metadata": {},
     "output_type": "execute_result"
    }
   ],
   "source": [
    "flats.dtypes"
   ]
  },
  {
   "cell_type": "code",
   "execution_count": 23,
   "id": "abce1836",
   "metadata": {},
   "outputs": [
    {
     "data": {
      "text/html": [
       "<div>\n",
       "<style scoped>\n",
       "    .dataframe tbody tr th:only-of-type {\n",
       "        vertical-align: middle;\n",
       "    }\n",
       "\n",
       "    .dataframe tbody tr th {\n",
       "        vertical-align: top;\n",
       "    }\n",
       "\n",
       "    .dataframe thead th {\n",
       "        text-align: right;\n",
       "    }\n",
       "</style>\n",
       "<table border=\"1\" class=\"dataframe\">\n",
       "  <thead>\n",
       "    <tr style=\"text-align: right;\">\n",
       "      <th></th>\n",
       "      <th>price</th>\n",
       "      <th>year_built</th>\n",
       "      <th>area_m2</th>\n",
       "      <th>rooms</th>\n",
       "      <th>floor</th>\n",
       "    </tr>\n",
       "  </thead>\n",
       "  <tbody>\n",
       "    <tr>\n",
       "      <th>count</th>\n",
       "      <td>110.00</td>\n",
       "      <td>182.00</td>\n",
       "      <td>182.00</td>\n",
       "      <td>182.00</td>\n",
       "      <td>182.00</td>\n",
       "    </tr>\n",
       "    <tr>\n",
       "      <th>mean</th>\n",
       "      <td>1286511.76</td>\n",
       "      <td>2021.40</td>\n",
       "      <td>54.84</td>\n",
       "      <td>2.55</td>\n",
       "      <td>2.07</td>\n",
       "    </tr>\n",
       "    <tr>\n",
       "      <th>std</th>\n",
       "      <td>5841356.43</td>\n",
       "      <td>0.65</td>\n",
       "      <td>5.84</td>\n",
       "      <td>0.53</td>\n",
       "      <td>1.06</td>\n",
       "    </tr>\n",
       "    <tr>\n",
       "      <th>min</th>\n",
       "      <td>401436.00</td>\n",
       "      <td>2020.00</td>\n",
       "      <td>45.36</td>\n",
       "      <td>2.00</td>\n",
       "      <td>0.00</td>\n",
       "    </tr>\n",
       "    <tr>\n",
       "      <th>25%</th>\n",
       "      <td>448706.75</td>\n",
       "      <td>2021.00</td>\n",
       "      <td>49.77</td>\n",
       "      <td>2.00</td>\n",
       "      <td>1.00</td>\n",
       "    </tr>\n",
       "    <tr>\n",
       "      <th>50%</th>\n",
       "      <td>500633.50</td>\n",
       "      <td>2021.00</td>\n",
       "      <td>53.45</td>\n",
       "      <td>3.00</td>\n",
       "      <td>2.00</td>\n",
       "    </tr>\n",
       "    <tr>\n",
       "      <th>75%</th>\n",
       "      <td>537100.00</td>\n",
       "      <td>2022.00</td>\n",
       "      <td>60.28</td>\n",
       "      <td>3.00</td>\n",
       "      <td>3.00</td>\n",
       "    </tr>\n",
       "    <tr>\n",
       "      <th>max</th>\n",
       "      <td>44014575.00</td>\n",
       "      <td>2023.00</td>\n",
       "      <td>64.96</td>\n",
       "      <td>4.00</td>\n",
       "      <td>4.00</td>\n",
       "    </tr>\n",
       "  </tbody>\n",
       "</table>\n",
       "</div>"
      ],
      "text/plain": [
       "             price  year_built  area_m2   rooms   floor\n",
       "count       110.00      182.00   182.00  182.00  182.00\n",
       "mean    1286511.76     2021.40    54.84    2.55    2.07\n",
       "std     5841356.43        0.65     5.84    0.53    1.06\n",
       "min      401436.00     2020.00    45.36    2.00    0.00\n",
       "25%      448706.75     2021.00    49.77    2.00    1.00\n",
       "50%      500633.50     2021.00    53.45    3.00    2.00\n",
       "75%      537100.00     2022.00    60.28    3.00    3.00\n",
       "max    44014575.00     2023.00    64.96    4.00    4.00"
      ]
     },
     "execution_count": 23,
     "metadata": {},
     "output_type": "execute_result"
    }
   ],
   "source": [
    "flats.describe().round(2)"
   ]
  },
  {
   "cell_type": "code",
   "execution_count": 31,
   "id": "31b2c551",
   "metadata": {},
   "outputs": [
    {
     "data": {
      "text/html": [
       "<div>\n",
       "<style scoped>\n",
       "    .dataframe tbody tr th:only-of-type {\n",
       "        vertical-align: middle;\n",
       "    }\n",
       "\n",
       "    .dataframe tbody tr th {\n",
       "        vertical-align: top;\n",
       "    }\n",
       "\n",
       "    .dataframe thead th {\n",
       "        text-align: right;\n",
       "    }\n",
       "</style>\n",
       "<table border=\"1\" class=\"dataframe\">\n",
       "  <thead>\n",
       "    <tr style=\"text-align: right;\">\n",
       "      <th></th>\n",
       "      <th>title</th>\n",
       "      <th>price</th>\n",
       "      <th>year_built</th>\n",
       "      <th>area_m2</th>\n",
       "      <th>market</th>\n",
       "      <th>rooms</th>\n",
       "      <th>floor</th>\n",
       "    </tr>\n",
       "  </thead>\n",
       "  <tbody>\n",
       "    <tr>\n",
       "      <th>36</th>\n",
       "      <td>Jagodno / 2M, możliwe 3 / Bezpiecznie i Towarz...</td>\n",
       "      <td>442485.0</td>\n",
       "      <td>2021</td>\n",
       "      <td>50.14</td>\n",
       "      <td>pierwotny</td>\n",
       "      <td>2</td>\n",
       "      <td>2</td>\n",
       "    </tr>\n",
       "    <tr>\n",
       "      <th>85</th>\n",
       "      <td>Jagodno / 2M, możliwe 3 / Bezpiecznie i Towarz...</td>\n",
       "      <td>442485.0</td>\n",
       "      <td>2021</td>\n",
       "      <td>50.14</td>\n",
       "      <td>pierwotny</td>\n",
       "      <td>2</td>\n",
       "      <td>2</td>\n",
       "    </tr>\n",
       "    <tr>\n",
       "      <th>35</th>\n",
       "      <td>Jagodno / 3M, możliwe 4 / Bezpiecznie i Towarz...</td>\n",
       "      <td>499855.0</td>\n",
       "      <td>2021</td>\n",
       "      <td>59.33</td>\n",
       "      <td>pierwotny</td>\n",
       "      <td>3</td>\n",
       "      <td>1</td>\n",
       "    </tr>\n",
       "    <tr>\n",
       "      <th>86</th>\n",
       "      <td>Jagodno / 3M, możliwe 4 / Bezpiecznie i Towarz...</td>\n",
       "      <td>499855.0</td>\n",
       "      <td>2021</td>\n",
       "      <td>59.33</td>\n",
       "      <td>pierwotny</td>\n",
       "      <td>3</td>\n",
       "      <td>1</td>\n",
       "    </tr>\n",
       "    <tr>\n",
       "      <th>68</th>\n",
       "      <td>Ołtaszyn // 2 Pokoje // Balkon // Spokojna Oko...</td>\n",
       "      <td>44014575.0</td>\n",
       "      <td>2021</td>\n",
       "      <td>51.63</td>\n",
       "      <td>pierwotny</td>\n",
       "      <td>2</td>\n",
       "      <td>4</td>\n",
       "    </tr>\n",
       "    <tr>\n",
       "      <th>97</th>\n",
       "      <td>Ołtaszyn // 2 Pokoje // Balkon // Spokojna Oko...</td>\n",
       "      <td>44014575.0</td>\n",
       "      <td>2021</td>\n",
       "      <td>51.63</td>\n",
       "      <td>pierwotny</td>\n",
       "      <td>2</td>\n",
       "      <td>4</td>\n",
       "    </tr>\n",
       "  </tbody>\n",
       "</table>\n",
       "</div>"
      ],
      "text/plain": [
       "                                                title       price  year_built  \\\n",
       "36  Jagodno / 2M, możliwe 3 / Bezpiecznie i Towarz...    442485.0        2021   \n",
       "85  Jagodno / 2M, możliwe 3 / Bezpiecznie i Towarz...    442485.0        2021   \n",
       "35  Jagodno / 3M, możliwe 4 / Bezpiecznie i Towarz...    499855.0        2021   \n",
       "86  Jagodno / 3M, możliwe 4 / Bezpiecznie i Towarz...    499855.0        2021   \n",
       "68  Ołtaszyn // 2 Pokoje // Balkon // Spokojna Oko...  44014575.0        2021   \n",
       "97  Ołtaszyn // 2 Pokoje // Balkon // Spokojna Oko...  44014575.0        2021   \n",
       "\n",
       "    area_m2     market  rooms  floor  \n",
       "36    50.14  pierwotny      2      2  \n",
       "85    50.14  pierwotny      2      2  \n",
       "35    59.33  pierwotny      3      1  \n",
       "86    59.33  pierwotny      3      1  \n",
       "68    51.63  pierwotny      2      4  \n",
       "97    51.63  pierwotny      2      4  "
      ]
     },
     "execution_count": 31,
     "metadata": {},
     "output_type": "execute_result"
    }
   ],
   "source": [
    "flats.loc[flats.duplicated(keep = False),:].sort_values(['title'])"
   ]
  },
  {
   "cell_type": "code",
   "execution_count": 32,
   "id": "f8f574e6",
   "metadata": {},
   "outputs": [],
   "source": [
    "flats = flats.drop_duplicates()"
   ]
  },
  {
   "cell_type": "code",
   "execution_count": 33,
   "id": "d9eba158",
   "metadata": {},
   "outputs": [
    {
     "data": {
      "text/plain": [
       "title          0\n",
       "price         72\n",
       "year_built     0\n",
       "area_m2        0\n",
       "market         0\n",
       "rooms          0\n",
       "floor          0\n",
       "dtype: int64"
      ]
     },
     "execution_count": 33,
     "metadata": {},
     "output_type": "execute_result"
    }
   ],
   "source": [
    "flats.isnull().sum()"
   ]
  },
  {
   "cell_type": "code",
   "execution_count": 34,
   "id": "aaf3ca03",
   "metadata": {},
   "outputs": [
    {
     "data": {
      "text/plain": [
       "0.4022346368715084"
      ]
     },
     "execution_count": 34,
     "metadata": {},
     "output_type": "execute_result"
    }
   ],
   "source": [
    "72/179"
   ]
  },
  {
   "cell_type": "code",
   "execution_count": 35,
   "id": "66c0d55a",
   "metadata": {},
   "outputs": [
    {
     "data": {
      "text/plain": [
       "title         0\n",
       "price         0\n",
       "year_built    0\n",
       "area_m2       0\n",
       "market        0\n",
       "rooms         0\n",
       "floor         0\n",
       "dtype: int64"
      ]
     },
     "execution_count": 35,
     "metadata": {},
     "output_type": "execute_result"
    }
   ],
   "source": [
    "median_price = flats.price.median()\n",
    "flats.price.fillna(median_price, inplace = True)\n",
    "flats.isnull().sum()"
   ]
  },
  {
   "cell_type": "code",
   "execution_count": 56,
   "id": "0876c586",
   "metadata": {},
   "outputs": [
    {
     "data": {
      "image/png": "[encoded data removed]",
      "text/plain": [
       "<Figure size 720x504 with 1 Axes>"
      ]
     },
     "metadata": {
      "needs_background": "light"
     },
     "output_type": "display_data"
    }
   ],
   "source": [
    "plt.figure(figsize=(10,7))\n",
    "ax = sns.boxplot(data = flats, x = 'year_built', color = \"green\")\n",
    "ax.set(xlabel='Year built');"
   ]
  },
  {
   "cell_type": "code",
   "execution_count": 51,
   "id": "7c7a7ab1",
   "metadata": {},
   "outputs": [
    {
     "data": {
      "image/png": "[encoded data removed]",
      "text/plain": [
       "<Figure size 720x504 with 1 Axes>"
      ]
     },
     "metadata": {
      "needs_background": "light"
     },
     "output_type": "display_data"
    }
   ],
   "source": [
    "plt.figure(figsize=(10,7))\n",
    "ax = sns.boxplot(data = flats, x = 'area_m2')\n",
    "ax.set(xlabel='area_m2');"
   ]
  },
  {
   "cell_type": "code",
   "execution_count": 49,
   "id": "944ad15b",
   "metadata": {},
   "outputs": [
    {
     "data": {
      "image/png": "[encoded data removed]",
      "text/plain": [
       "<Figure size 720x504 with 1 Axes>"
      ]
     },
     "metadata": {
      "needs_background": "light"
     },
     "output_type": "display_data"
    }
   ],
   "source": [
    "plt.figure(figsize=(10,7))\n",
    "ax = sns.boxplot(data = flats, x = 'rooms')\n",
    "ax.set(xlabel='Number of rooms');"
   ]
  },
  {
   "cell_type": "code",
   "execution_count": 57,
   "id": "2fbd9c90",
   "metadata": {},
   "outputs": [
    {
     "data": {
      "image/png": "[encoded data removed]",
      "text/plain": [
       "<Figure size 720x504 with 1 Axes>"
      ]
     },
     "metadata": {
      "needs_background": "light"
     },
     "output_type": "display_data"
    }
   ],
   "source": [
    "plt.figure(figsize=(10,7))\n",
    "ax = sns.boxplot(data = flats, x = 'price', color = \"orange\")\n",
    "ax.set(xlabel='Flat price');"
   ]
  },
  {
   "cell_type": "code",
   "execution_count": 59,
   "id": "c53b9565",
   "metadata": {},
   "outputs": [],
   "source": [
    "flats = flats.loc[flats.price != flats.price.max(),]"
   ]
  },
  {
   "cell_type": "code",
   "execution_count": 61,
   "id": "0bb8440f",
   "metadata": {},
   "outputs": [
    {
     "data": {
      "text/plain": [
       "count       178.000000\n",
       "mean     497766.314607\n",
       "std       37049.143027\n",
       "min      401436.000000\n",
       "25%      499000.000000\n",
       "50%      500800.000000\n",
       "75%      509273.000000\n",
       "max      571500.000000\n",
       "Name: price, dtype: float64"
      ]
     },
     "execution_count": 61,
     "metadata": {},
     "output_type": "execute_result"
    }
   ],
   "source": [
    "flats.price.describe()"
   ]
  },
  {
   "cell_type": "code",
   "execution_count": 60,
   "id": "84588636",
   "metadata": {},
   "outputs": [
    {
     "data": {
      "image/png": "[encoded data removed]",
      "text/plain": [
       "<Figure size 720x504 with 1 Axes>"
      ]
     },
     "metadata": {
      "needs_background": "light"
     },
     "output_type": "display_data"
    }
   ],
   "source": [
    "plt.figure(figsize=(10,7))\n",
    "ax = sns.boxplot(data = flats, x = 'price', color = \"orange\")\n",
    "ax.set(xlabel='Flat price');"
   ]
  },
  {
   "cell_type": "code",
   "execution_count": 62,
   "id": "92731e4e",
   "metadata": {},
   "outputs": [
    {
     "name": "stderr",
     "output_type": "stream",
     "text": [
      "<ipython-input-62-deafa4c14d10>:1: SettingWithCopyWarning: \n",
      "A value is trying to be set on a copy of a slice from a DataFrame.\n",
      "Try using .loc[row_indexer,col_indexer] = value instead\n",
      "\n",
      "See the caveats in the documentation: https://pandas.pydata.org/pandas-docs/stable/user_guide/indexing.html#returning-a-view-versus-a-copy\n",
      "  flats['price_m2'] = flats.price/flats.area_m2\n"
     ]
    },
    {
     "data": {
      "text/plain": [
       "count      178.000000\n",
       "mean      9131.495724\n",
       "std        809.555549\n",
       "min       7202.246125\n",
       "25%       8589.996339\n",
       "50%       8889.441350\n",
       "75%       9682.069588\n",
       "max      10987.275121\n",
       "Name: price_m2, dtype: float64"
      ]
     },
     "execution_count": 62,
     "metadata": {},
     "output_type": "execute_result"
    }
   ],
   "source": [
    "flats['price_m2'] = flats.price/flats.area_m2\n",
    "flats.price_m2.describe()"
   ]
  },
  {
   "cell_type": "code",
   "execution_count": 65,
   "id": "92c255a2",
   "metadata": {},
   "outputs": [
    {
     "name": "stderr",
     "output_type": "stream",
     "text": [
      "<ipython-input-65-c2c8a1d95720>:1: SettingWithCopyWarning: \n",
      "A value is trying to be set on a copy of a slice from a DataFrame.\n",
      "Try using .loc[row_indexer,col_indexer] = value instead\n",
      "\n",
      "See the caveats in the documentation: https://pandas.pydata.org/pandas-docs/stable/user_guide/indexing.html#returning-a-view-versus-a-copy\n",
      "  flats['built'] = [\"built\" if (x == 2020) | (x == 2021) else \"to be built\" for x in flats.year_built]\n"
     ]
    }
   ],
   "source": [
    "flats['built'] = [\"built\" if (x == 2020) | (x == 2021) else \"to be built\" for x in flats.year_built]"
   ]
  },
  {
   "cell_type": "code",
   "execution_count": 77,
   "id": "6b9d7801",
   "metadata": {},
   "outputs": [
    {
     "data": {
      "text/html": [
       "<div>\n",
       "<style scoped>\n",
       "    .dataframe tbody tr th:only-of-type {\n",
       "        vertical-align: middle;\n",
       "    }\n",
       "\n",
       "    .dataframe tbody tr th {\n",
       "        vertical-align: top;\n",
       "    }\n",
       "\n",
       "    .dataframe thead tr th {\n",
       "        text-align: left;\n",
       "    }\n",
       "\n",
       "    .dataframe thead tr:last-of-type th {\n",
       "        text-align: right;\n",
       "    }\n",
       "</style>\n",
       "<table border=\"1\" class=\"dataframe\">\n",
       "  <thead>\n",
       "    <tr>\n",
       "      <th></th>\n",
       "      <th colspan=\"2\" halign=\"left\">price</th>\n",
       "      <th colspan=\"2\" halign=\"left\">year_built</th>\n",
       "      <th colspan=\"2\" halign=\"left\">area_m2</th>\n",
       "      <th colspan=\"2\" halign=\"left\">rooms</th>\n",
       "      <th colspan=\"2\" halign=\"left\">floor</th>\n",
       "      <th colspan=\"2\" halign=\"left\">price_m2</th>\n",
       "    </tr>\n",
       "    <tr>\n",
       "      <th></th>\n",
       "      <th>mean</th>\n",
       "      <th>median</th>\n",
       "      <th>mean</th>\n",
       "      <th>median</th>\n",
       "      <th>mean</th>\n",
       "      <th>median</th>\n",
       "      <th>mean</th>\n",
       "      <th>median</th>\n",
       "      <th>mean</th>\n",
       "      <th>median</th>\n",
       "      <th>mean</th>\n",
       "      <th>median</th>\n",
       "    </tr>\n",
       "    <tr>\n",
       "      <th>built</th>\n",
       "      <th></th>\n",
       "      <th></th>\n",
       "      <th></th>\n",
       "      <th></th>\n",
       "      <th></th>\n",
       "      <th></th>\n",
       "      <th></th>\n",
       "      <th></th>\n",
       "      <th></th>\n",
       "      <th></th>\n",
       "      <th></th>\n",
       "      <th></th>\n",
       "    </tr>\n",
       "  </thead>\n",
       "  <tbody>\n",
       "    <tr>\n",
       "      <th>built</th>\n",
       "      <td>496243.515789</td>\n",
       "      <td>500800.0</td>\n",
       "      <td>2020.852632</td>\n",
       "      <td>2021</td>\n",
       "      <td>57.060316</td>\n",
       "      <td>59.33</td>\n",
       "      <td>2.684211</td>\n",
       "      <td>3</td>\n",
       "      <td>2.115789</td>\n",
       "      <td>2</td>\n",
       "      <td>8718.332283</td>\n",
       "      <td>8648.989899</td>\n",
       "    </tr>\n",
       "    <tr>\n",
       "      <th>to be built</th>\n",
       "      <td>499509.277108</td>\n",
       "      <td>500800.0</td>\n",
       "      <td>2022.036145</td>\n",
       "      <td>2022</td>\n",
       "      <td>52.371446</td>\n",
       "      <td>52.04</td>\n",
       "      <td>2.421687</td>\n",
       "      <td>2</td>\n",
       "      <td>1.975904</td>\n",
       "      <td>2</td>\n",
       "      <td>9604.393639</td>\n",
       "      <td>9535.415080</td>\n",
       "    </tr>\n",
       "  </tbody>\n",
       "</table>\n",
       "</div>"
      ],
      "text/plain": [
       "                     price             year_built           area_m2         \\\n",
       "                      mean    median         mean median       mean median   \n",
       "built                                                                        \n",
       "built        496243.515789  500800.0  2020.852632   2021  57.060316  59.33   \n",
       "to be built  499509.277108  500800.0  2022.036145   2022  52.371446  52.04   \n",
       "\n",
       "                rooms            floor            price_m2               \n",
       "                 mean median      mean median         mean       median  \n",
       "built                                                                    \n",
       "built        2.684211      3  2.115789      2  8718.332283  8648.989899  \n",
       "to be built  2.421687      2  1.975904      2  9604.393639  9535.415080  "
      ]
     },
     "execution_count": 77,
     "metadata": {},
     "output_type": "execute_result"
    }
   ],
   "source": [
    "flats.groupby(['built']).agg(['mean', 'median'])"
   ]
  },
  {
   "cell_type": "code",
   "execution_count": 80,
   "id": "a65bfe93",
   "metadata": {},
   "outputs": [
    {
     "name": "stdout",
     "output_type": "stream",
     "text": [
      "t_value1 =  -8.680985090393076 , p_value1 =  2.592678631797329e-15\n"
     ]
    }
   ],
   "source": [
    "built_hypo = flats.loc[flats.built == 'built','price_m2']\n",
    "not_built_hypo = flats.loc[flats.built == 'to be built','price_m2']\n",
    "\n",
    "alpha=0.05\n",
    "t_value, p_value = stats.ttest_ind(built_hypo, not_built_hypo)\n",
    "print(\"t_value1 = \",t_value, \", p_value1 = \", p_value)"
   ]
  }
 ],
 "metadata": {
  "kernelspec": {
   "display_name": "Python 3",
   "language": "python",
   "name": "python3"
  },
  "language_info": {
   "codemirror_mode": {
    "name": "ipython",
    "version": 3
   },
   "file_extension": ".py",
   "mimetype": "text/x-python",
   "name": "python",
   "nbconvert_exporter": "python",
   "pygments_lexer": "ipython3",
   "version": "3.8.8"
  }
 },
 "nbformat": 4,
 "nbformat_minor": 5
}
