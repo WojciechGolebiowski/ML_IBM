{
 "cells": [
  {
   "cell_type": "code",
   "execution_count": 50,
   "id": "15aeb56d",
   "metadata": {},
   "outputs": [],
   "source": [
    "import pandas as pd\n",
    "import numpy as np\n",
    "import seaborn as sns\n",
    "from matplotlib import pyplot as plt\n",
    "\n",
    "from scipy import stats\n",
    "from scipy.stats import boxcox\n",
    "from scipy.stats.mstats import normaltest\n",
    "\n",
    "from statsmodels.stats.outliers_influence import variance_inflation_factor\n",
    "\n",
    "from sklearn.preprocessing import StandardScaler, PolynomialFeatures\n",
    "from sklearn.linear_model import LinearRegression, Ridge\n",
    "from sklearn.metrics import r2_score, mean_squared_error\n",
    "from sklearn.pipeline import Pipeline\n",
    "from sklearn.model_selection import GridSearchCV, train_test_split"
   ]
  },
  {
   "cell_type": "code",
   "execution_count": 2,
   "id": "dc193130",
   "metadata": {},
   "outputs": [],
   "source": [
    "cars = pd.read_csv(\"C:/Users/woote/Desktop/Python/IBM Machine Learning/Projects/Regression/Car details v3.csv\").\\\n",
    "        iloc[:,:-5]"
   ]
  },
  {
   "cell_type": "markdown",
   "id": "c270a1c4",
   "metadata": {},
   "source": [
    "## 2.\tBrief description of the data set"
   ]
  },
  {
   "cell_type": "code",
   "execution_count": 3,
   "id": "f9f57ecc",
   "metadata": {},
   "outputs": [
    {
     "data": {
      "text/plain": [
       "name             object\n",
       "year              int64\n",
       "selling_price     int64\n",
       "km_driven         int64\n",
       "fuel             object\n",
       "seller_type      object\n",
       "transmission     object\n",
       "owner            object\n",
       "dtype: object"
      ]
     },
     "execution_count": 3,
     "metadata": {},
     "output_type": "execute_result"
    }
   ],
   "source": [
    "cars.dtypes"
   ]
  },
  {
   "cell_type": "code",
   "execution_count": 4,
   "id": "d1371517",
   "metadata": {},
   "outputs": [
    {
     "data": {
      "text/html": [
       "<div>\n",
       "<style scoped>\n",
       "    .dataframe tbody tr th:only-of-type {\n",
       "        vertical-align: middle;\n",
       "    }\n",
       "\n",
       "    .dataframe tbody tr th {\n",
       "        vertical-align: top;\n",
       "    }\n",
       "\n",
       "    .dataframe thead th {\n",
       "        text-align: right;\n",
       "    }\n",
       "</style>\n",
       "<table border=\"1\" class=\"dataframe\">\n",
       "  <thead>\n",
       "    <tr style=\"text-align: right;\">\n",
       "      <th></th>\n",
       "      <th>year</th>\n",
       "      <th>selling_price</th>\n",
       "      <th>km_driven</th>\n",
       "    </tr>\n",
       "  </thead>\n",
       "  <tbody>\n",
       "    <tr>\n",
       "      <th>count</th>\n",
       "      <td>8128.00</td>\n",
       "      <td>8128.00</td>\n",
       "      <td>8128.00</td>\n",
       "    </tr>\n",
       "    <tr>\n",
       "      <th>mean</th>\n",
       "      <td>2013.80</td>\n",
       "      <td>638271.81</td>\n",
       "      <td>69819.51</td>\n",
       "    </tr>\n",
       "    <tr>\n",
       "      <th>std</th>\n",
       "      <td>4.04</td>\n",
       "      <td>806253.40</td>\n",
       "      <td>56550.55</td>\n",
       "    </tr>\n",
       "    <tr>\n",
       "      <th>min</th>\n",
       "      <td>1983.00</td>\n",
       "      <td>29999.00</td>\n",
       "      <td>1.00</td>\n",
       "    </tr>\n",
       "    <tr>\n",
       "      <th>25%</th>\n",
       "      <td>2011.00</td>\n",
       "      <td>254999.00</td>\n",
       "      <td>35000.00</td>\n",
       "    </tr>\n",
       "    <tr>\n",
       "      <th>50%</th>\n",
       "      <td>2015.00</td>\n",
       "      <td>450000.00</td>\n",
       "      <td>60000.00</td>\n",
       "    </tr>\n",
       "    <tr>\n",
       "      <th>75%</th>\n",
       "      <td>2017.00</td>\n",
       "      <td>675000.00</td>\n",
       "      <td>98000.00</td>\n",
       "    </tr>\n",
       "    <tr>\n",
       "      <th>max</th>\n",
       "      <td>2020.00</td>\n",
       "      <td>10000000.00</td>\n",
       "      <td>2360457.00</td>\n",
       "    </tr>\n",
       "  </tbody>\n",
       "</table>\n",
       "</div>"
      ],
      "text/plain": [
       "          year  selling_price   km_driven\n",
       "count  8128.00        8128.00     8128.00\n",
       "mean   2013.80      638271.81    69819.51\n",
       "std       4.04      806253.40    56550.55\n",
       "min    1983.00       29999.00        1.00\n",
       "25%    2011.00      254999.00    35000.00\n",
       "50%    2015.00      450000.00    60000.00\n",
       "75%    2017.00      675000.00    98000.00\n",
       "max    2020.00    10000000.00  2360457.00"
      ]
     },
     "execution_count": 4,
     "metadata": {},
     "output_type": "execute_result"
    }
   ],
   "source": [
    "cars.describe().round(2)"
   ]
  },
  {
   "cell_type": "code",
   "execution_count": 5,
   "id": "d85df914",
   "metadata": {},
   "outputs": [
    {
     "data": {
      "text/html": [
       "<div>\n",
       "<style scoped>\n",
       "    .dataframe tbody tr th:only-of-type {\n",
       "        vertical-align: middle;\n",
       "    }\n",
       "\n",
       "    .dataframe tbody tr th {\n",
       "        vertical-align: top;\n",
       "    }\n",
       "\n",
       "    .dataframe thead th {\n",
       "        text-align: right;\n",
       "    }\n",
       "</style>\n",
       "<table border=\"1\" class=\"dataframe\">\n",
       "  <thead>\n",
       "    <tr style=\"text-align: right;\">\n",
       "      <th></th>\n",
       "      <th>name</th>\n",
       "      <th>fuel</th>\n",
       "      <th>seller_type</th>\n",
       "      <th>transmission</th>\n",
       "      <th>owner</th>\n",
       "    </tr>\n",
       "  </thead>\n",
       "  <tbody>\n",
       "    <tr>\n",
       "      <th>count</th>\n",
       "      <td>8128</td>\n",
       "      <td>8128</td>\n",
       "      <td>8128</td>\n",
       "      <td>8128</td>\n",
       "      <td>8128</td>\n",
       "    </tr>\n",
       "    <tr>\n",
       "      <th>unique</th>\n",
       "      <td>2058</td>\n",
       "      <td>4</td>\n",
       "      <td>3</td>\n",
       "      <td>2</td>\n",
       "      <td>5</td>\n",
       "    </tr>\n",
       "    <tr>\n",
       "      <th>top</th>\n",
       "      <td>Maruti Swift Dzire VDI</td>\n",
       "      <td>Diesel</td>\n",
       "      <td>Individual</td>\n",
       "      <td>Manual</td>\n",
       "      <td>First Owner</td>\n",
       "    </tr>\n",
       "    <tr>\n",
       "      <th>freq</th>\n",
       "      <td>129</td>\n",
       "      <td>4402</td>\n",
       "      <td>6766</td>\n",
       "      <td>7078</td>\n",
       "      <td>5289</td>\n",
       "    </tr>\n",
       "  </tbody>\n",
       "</table>\n",
       "</div>"
      ],
      "text/plain": [
       "                          name    fuel seller_type transmission        owner\n",
       "count                     8128    8128        8128         8128         8128\n",
       "unique                    2058       4           3            2            5\n",
       "top     Maruti Swift Dzire VDI  Diesel  Individual       Manual  First Owner\n",
       "freq                       129    4402        6766         7078         5289"
      ]
     },
     "execution_count": 5,
     "metadata": {},
     "output_type": "execute_result"
    }
   ],
   "source": [
    "cars.describe(include = [object])"
   ]
  },
  {
   "cell_type": "code",
   "execution_count": 6,
   "id": "0a8fa6fc",
   "metadata": {},
   "outputs": [
    {
     "data": {
      "text/html": [
       "<div>\n",
       "<style scoped>\n",
       "    .dataframe tbody tr th:only-of-type {\n",
       "        vertical-align: middle;\n",
       "    }\n",
       "\n",
       "    .dataframe tbody tr th {\n",
       "        vertical-align: top;\n",
       "    }\n",
       "\n",
       "    .dataframe thead th {\n",
       "        text-align: right;\n",
       "    }\n",
       "</style>\n",
       "<table border=\"1\" class=\"dataframe\">\n",
       "  <thead>\n",
       "    <tr style=\"text-align: right;\">\n",
       "      <th></th>\n",
       "      <th>name</th>\n",
       "      <th>year</th>\n",
       "      <th>selling_price</th>\n",
       "      <th>km_driven</th>\n",
       "      <th>fuel</th>\n",
       "      <th>seller_type</th>\n",
       "      <th>transmission</th>\n",
       "      <th>owner</th>\n",
       "    </tr>\n",
       "  </thead>\n",
       "  <tbody>\n",
       "    <tr>\n",
       "      <th>0</th>\n",
       "      <td>Maruti Swift Dzire VDI</td>\n",
       "      <td>2014</td>\n",
       "      <td>450000</td>\n",
       "      <td>145500</td>\n",
       "      <td>Diesel</td>\n",
       "      <td>Individual</td>\n",
       "      <td>Manual</td>\n",
       "      <td>First Owner</td>\n",
       "    </tr>\n",
       "    <tr>\n",
       "      <th>1</th>\n",
       "      <td>Skoda Rapid 1.5 TDI Ambition</td>\n",
       "      <td>2014</td>\n",
       "      <td>370000</td>\n",
       "      <td>120000</td>\n",
       "      <td>Diesel</td>\n",
       "      <td>Individual</td>\n",
       "      <td>Manual</td>\n",
       "      <td>Second Owner</td>\n",
       "    </tr>\n",
       "    <tr>\n",
       "      <th>2</th>\n",
       "      <td>Honda City 2017-2020 EXi</td>\n",
       "      <td>2006</td>\n",
       "      <td>158000</td>\n",
       "      <td>140000</td>\n",
       "      <td>Petrol</td>\n",
       "      <td>Individual</td>\n",
       "      <td>Manual</td>\n",
       "      <td>Third Owner</td>\n",
       "    </tr>\n",
       "    <tr>\n",
       "      <th>3</th>\n",
       "      <td>Hyundai i20 Sportz Diesel</td>\n",
       "      <td>2010</td>\n",
       "      <td>225000</td>\n",
       "      <td>127000</td>\n",
       "      <td>Diesel</td>\n",
       "      <td>Individual</td>\n",
       "      <td>Manual</td>\n",
       "      <td>First Owner</td>\n",
       "    </tr>\n",
       "    <tr>\n",
       "      <th>4</th>\n",
       "      <td>Maruti Swift VXI BSIII</td>\n",
       "      <td>2007</td>\n",
       "      <td>130000</td>\n",
       "      <td>120000</td>\n",
       "      <td>Petrol</td>\n",
       "      <td>Individual</td>\n",
       "      <td>Manual</td>\n",
       "      <td>First Owner</td>\n",
       "    </tr>\n",
       "  </tbody>\n",
       "</table>\n",
       "</div>"
      ],
      "text/plain": [
       "                           name  year  selling_price  km_driven    fuel  \\\n",
       "0        Maruti Swift Dzire VDI  2014         450000     145500  Diesel   \n",
       "1  Skoda Rapid 1.5 TDI Ambition  2014         370000     120000  Diesel   \n",
       "2      Honda City 2017-2020 EXi  2006         158000     140000  Petrol   \n",
       "3     Hyundai i20 Sportz Diesel  2010         225000     127000  Diesel   \n",
       "4        Maruti Swift VXI BSIII  2007         130000     120000  Petrol   \n",
       "\n",
       "  seller_type transmission         owner  \n",
       "0  Individual       Manual   First Owner  \n",
       "1  Individual       Manual  Second Owner  \n",
       "2  Individual       Manual   Third Owner  \n",
       "3  Individual       Manual   First Owner  \n",
       "4  Individual       Manual   First Owner  "
      ]
     },
     "execution_count": 6,
     "metadata": {},
     "output_type": "execute_result"
    }
   ],
   "source": [
    "cars.head()"
   ]
  },
  {
   "cell_type": "markdown",
   "id": "b65c047b",
   "metadata": {},
   "source": [
    "## 3.\tBrief summary of data exploration and actions taken for data cleaning and feature engineering"
   ]
  },
  {
   "cell_type": "markdown",
   "id": "0cb35df9",
   "metadata": {},
   "source": [
    "There are duplicates"
   ]
  },
  {
   "cell_type": "code",
   "execution_count": 7,
   "id": "1afabc4b",
   "metadata": {},
   "outputs": [
    {
     "data": {
      "text/html": [
       "<div>\n",
       "<style scoped>\n",
       "    .dataframe tbody tr th:only-of-type {\n",
       "        vertical-align: middle;\n",
       "    }\n",
       "\n",
       "    .dataframe tbody tr th {\n",
       "        vertical-align: top;\n",
       "    }\n",
       "\n",
       "    .dataframe thead th {\n",
       "        text-align: right;\n",
       "    }\n",
       "</style>\n",
       "<table border=\"1\" class=\"dataframe\">\n",
       "  <thead>\n",
       "    <tr style=\"text-align: right;\">\n",
       "      <th></th>\n",
       "      <th>name</th>\n",
       "      <th>year</th>\n",
       "      <th>selling_price</th>\n",
       "      <th>km_driven</th>\n",
       "      <th>fuel</th>\n",
       "      <th>seller_type</th>\n",
       "      <th>transmission</th>\n",
       "      <th>owner</th>\n",
       "    </tr>\n",
       "  </thead>\n",
       "  <tbody>\n",
       "    <tr>\n",
       "      <th>1977</th>\n",
       "      <td>Audi Q3 2.0 TDI Quattro Premium Plus</td>\n",
       "      <td>2017</td>\n",
       "      <td>2825000</td>\n",
       "      <td>22000</td>\n",
       "      <td>Diesel</td>\n",
       "      <td>Dealer</td>\n",
       "      <td>Automatic</td>\n",
       "      <td>First Owner</td>\n",
       "    </tr>\n",
       "    <tr>\n",
       "      <th>7324</th>\n",
       "      <td>Audi Q3 2.0 TDI Quattro Premium Plus</td>\n",
       "      <td>2017</td>\n",
       "      <td>2825000</td>\n",
       "      <td>22000</td>\n",
       "      <td>Diesel</td>\n",
       "      <td>Dealer</td>\n",
       "      <td>Automatic</td>\n",
       "      <td>First Owner</td>\n",
       "    </tr>\n",
       "    <tr>\n",
       "      <th>7775</th>\n",
       "      <td>Audi Q5 3.0 TDI Quattro</td>\n",
       "      <td>2014</td>\n",
       "      <td>1850000</td>\n",
       "      <td>76131</td>\n",
       "      <td>Diesel</td>\n",
       "      <td>Individual</td>\n",
       "      <td>Automatic</td>\n",
       "      <td>First Owner</td>\n",
       "    </tr>\n",
       "    <tr>\n",
       "      <th>2129</th>\n",
       "      <td>Audi Q5 3.0 TDI Quattro</td>\n",
       "      <td>2014</td>\n",
       "      <td>1850000</td>\n",
       "      <td>76131</td>\n",
       "      <td>Diesel</td>\n",
       "      <td>Individual</td>\n",
       "      <td>Automatic</td>\n",
       "      <td>First Owner</td>\n",
       "    </tr>\n",
       "    <tr>\n",
       "      <th>1857</th>\n",
       "      <td>Audi Q5 35TDI Premium Plus</td>\n",
       "      <td>2018</td>\n",
       "      <td>3975000</td>\n",
       "      <td>31800</td>\n",
       "      <td>Diesel</td>\n",
       "      <td>Dealer</td>\n",
       "      <td>Automatic</td>\n",
       "      <td>First Owner</td>\n",
       "    </tr>\n",
       "    <tr>\n",
       "      <th>...</th>\n",
       "      <td>...</td>\n",
       "      <td>...</td>\n",
       "      <td>...</td>\n",
       "      <td>...</td>\n",
       "      <td>...</td>\n",
       "      <td>...</td>\n",
       "      <td>...</td>\n",
       "      <td>...</td>\n",
       "    </tr>\n",
       "    <tr>\n",
       "      <th>1119</th>\n",
       "      <td>Volvo XC40 D4 Inscription BSIV</td>\n",
       "      <td>2019</td>\n",
       "      <td>3800000</td>\n",
       "      <td>20000</td>\n",
       "      <td>Diesel</td>\n",
       "      <td>Individual</td>\n",
       "      <td>Automatic</td>\n",
       "      <td>First Owner</td>\n",
       "    </tr>\n",
       "    <tr>\n",
       "      <th>2667</th>\n",
       "      <td>Volvo XC40 D4 Inscription BSIV</td>\n",
       "      <td>2019</td>\n",
       "      <td>3800000</td>\n",
       "      <td>20000</td>\n",
       "      <td>Diesel</td>\n",
       "      <td>Individual</td>\n",
       "      <td>Automatic</td>\n",
       "      <td>First Owner</td>\n",
       "    </tr>\n",
       "    <tr>\n",
       "      <th>1100</th>\n",
       "      <td>Volvo XC40 D4 Inscription BSIV</td>\n",
       "      <td>2019</td>\n",
       "      <td>3800000</td>\n",
       "      <td>20000</td>\n",
       "      <td>Diesel</td>\n",
       "      <td>Individual</td>\n",
       "      <td>Automatic</td>\n",
       "      <td>First Owner</td>\n",
       "    </tr>\n",
       "    <tr>\n",
       "      <th>145</th>\n",
       "      <td>Volvo XC40 D4 R-Design</td>\n",
       "      <td>2018</td>\n",
       "      <td>3400000</td>\n",
       "      <td>22000</td>\n",
       "      <td>Diesel</td>\n",
       "      <td>Dealer</td>\n",
       "      <td>Automatic</td>\n",
       "      <td>First Owner</td>\n",
       "    </tr>\n",
       "    <tr>\n",
       "      <th>3251</th>\n",
       "      <td>Volvo XC40 D4 R-Design</td>\n",
       "      <td>2018</td>\n",
       "      <td>3400000</td>\n",
       "      <td>22000</td>\n",
       "      <td>Diesel</td>\n",
       "      <td>Dealer</td>\n",
       "      <td>Automatic</td>\n",
       "      <td>First Owner</td>\n",
       "    </tr>\n",
       "  </tbody>\n",
       "</table>\n",
       "<p>1827 rows × 8 columns</p>\n",
       "</div>"
      ],
      "text/plain": [
       "                                      name  year  selling_price  km_driven  \\\n",
       "1977  Audi Q3 2.0 TDI Quattro Premium Plus  2017        2825000      22000   \n",
       "7324  Audi Q3 2.0 TDI Quattro Premium Plus  2017        2825000      22000   \n",
       "7775               Audi Q5 3.0 TDI Quattro  2014        1850000      76131   \n",
       "2129               Audi Q5 3.0 TDI Quattro  2014        1850000      76131   \n",
       "1857            Audi Q5 35TDI Premium Plus  2018        3975000      31800   \n",
       "...                                    ...   ...            ...        ...   \n",
       "1119        Volvo XC40 D4 Inscription BSIV  2019        3800000      20000   \n",
       "2667        Volvo XC40 D4 Inscription BSIV  2019        3800000      20000   \n",
       "1100        Volvo XC40 D4 Inscription BSIV  2019        3800000      20000   \n",
       "145                 Volvo XC40 D4 R-Design  2018        3400000      22000   \n",
       "3251                Volvo XC40 D4 R-Design  2018        3400000      22000   \n",
       "\n",
       "        fuel seller_type transmission        owner  \n",
       "1977  Diesel      Dealer    Automatic  First Owner  \n",
       "7324  Diesel      Dealer    Automatic  First Owner  \n",
       "7775  Diesel  Individual    Automatic  First Owner  \n",
       "2129  Diesel  Individual    Automatic  First Owner  \n",
       "1857  Diesel      Dealer    Automatic  First Owner  \n",
       "...      ...         ...          ...          ...  \n",
       "1119  Diesel  Individual    Automatic  First Owner  \n",
       "2667  Diesel  Individual    Automatic  First Owner  \n",
       "1100  Diesel  Individual    Automatic  First Owner  \n",
       "145   Diesel      Dealer    Automatic  First Owner  \n",
       "3251  Diesel      Dealer    Automatic  First Owner  \n",
       "\n",
       "[1827 rows x 8 columns]"
      ]
     },
     "execution_count": 7,
     "metadata": {},
     "output_type": "execute_result"
    }
   ],
   "source": [
    "cars.loc[cars.duplicated(keep = False),:].sort_values(['name'])"
   ]
  },
  {
   "cell_type": "code",
   "execution_count": 8,
   "id": "cf99c02c",
   "metadata": {},
   "outputs": [
    {
     "name": "stdout",
     "output_type": "stream",
     "text": [
      "(8128, 8)\n",
      "(6925, 8)\n"
     ]
    }
   ],
   "source": [
    "print(cars.shape)\n",
    "cars = cars.drop_duplicates().reset_index(drop=True)\n",
    "print(cars.shape)"
   ]
  },
  {
   "cell_type": "markdown",
   "id": "3d890977",
   "metadata": {},
   "source": [
    "Transformations"
   ]
  },
  {
   "cell_type": "code",
   "execution_count": 9,
   "id": "17f08661",
   "metadata": {},
   "outputs": [
    {
     "data": {
      "text/plain": [
       "First Owner             4241\n",
       "Second Owner            1974\n",
       "Third Owner              536\n",
       "Fourth & Above Owner     169\n",
       "Test Drive Car             5\n",
       "Name: owner, dtype: int64"
      ]
     },
     "execution_count": 9,
     "metadata": {},
     "output_type": "execute_result"
    }
   ],
   "source": [
    "cars.owner.value_counts()"
   ]
  },
  {
   "cell_type": "code",
   "execution_count": 10,
   "id": "ce199f19",
   "metadata": {},
   "outputs": [
    {
     "data": {
      "text/plain": [
       "First             4241\n",
       "Second            1974\n",
       "Third              536\n",
       "Fourth & Above     169\n",
       "Test Drive Car       5\n",
       "Name: owner, dtype: int64"
      ]
     },
     "execution_count": 10,
     "metadata": {},
     "output_type": "execute_result"
    }
   ],
   "source": [
    "cars['owner'] = cars.owner.str.replace(\" Owner\", \"\")\n",
    "cars.owner.value_counts()"
   ]
  },
  {
   "cell_type": "code",
   "execution_count": 11,
   "id": "6fda5a8c",
   "metadata": {},
   "outputs": [
    {
     "data": {
      "text/plain": [
       "Maruti           2164\n",
       "Hyundai          1267\n",
       "Mahindra          723\n",
       "Tata              647\n",
       "Honda             362\n",
       "Ford              361\n",
       "Toyota            357\n",
       "Chevrolet         216\n",
       "Renault           206\n",
       "Volkswagen        174\n",
       "Nissan             73\n",
       "Skoda              70\n",
       "Datsun             57\n",
       "BMW                47\n",
       "Mercedes-Benz      46\n",
       "Fiat               44\n",
       "Audi               33\n",
       "Jeep               22\n",
       "Mitsubishi         11\n",
       "Volvo               9\n",
       "Jaguar              8\n",
       "Ambassador          4\n",
       "Force               4\n",
       "Isuzu               4\n",
       "MG                  3\n",
       "Daewoo              3\n",
       "Kia                 3\n",
       "Land                3\n",
       "Lexus               1\n",
       "Ashok               1\n",
       "Opel                1\n",
       "Peugeot             1\n",
       "Name: name, dtype: int64"
      ]
     },
     "execution_count": 11,
     "metadata": {},
     "output_type": "execute_result"
    }
   ],
   "source": [
    "cars['name'] = cars['name'].str.split(\" \",1).str[0]\n",
    "cars['name'].value_counts()\n"
   ]
  },
  {
   "cell_type": "code",
   "execution_count": 12,
   "id": "5f61e40e",
   "metadata": {},
   "outputs": [
    {
     "name": "stderr",
     "output_type": "stream",
     "text": [
      "C:\\Users\\woote\\anaconda3\\lib\\site-packages\\seaborn\\_decorators.py:36: FutureWarning: Pass the following variable as a keyword arg: x. From version 0.12, the only valid positional argument will be `data`, and passing other arguments without an explicit keyword will result in an error or misinterpretation.\n",
      "  warnings.warn(\n"
     ]
    },
    {
     "data": {
      "image/png": "[encoded data removed]",
      "text/plain": [
       "<Figure size 720x504 with 1 Axes>"
      ]
     },
     "metadata": {
      "needs_background": "light"
     },
     "output_type": "display_data"
    }
   ],
   "source": [
    "plt.figure(figsize=(10,7))\n",
    "plt1 = sns.countplot(cars['name'], order=pd.value_counts(cars['name']).index,)\n",
    "plt1.set(xlabel = 'Brand', ylabel= 'Count of Cars')\n",
    "plt1.tick_params(axis='x', rotation=90);"
   ]
  },
  {
   "cell_type": "markdown",
   "id": "68b297ec",
   "metadata": {},
   "source": [
    "Missing Data"
   ]
  },
  {
   "cell_type": "code",
   "execution_count": 13,
   "id": "ce94c55d",
   "metadata": {},
   "outputs": [
    {
     "data": {
      "text/plain": [
       "name             0\n",
       "year             0\n",
       "selling_price    0\n",
       "km_driven        0\n",
       "fuel             0\n",
       "seller_type      0\n",
       "transmission     0\n",
       "owner            0\n",
       "dtype: int64"
      ]
     },
     "execution_count": 13,
     "metadata": {},
     "output_type": "execute_result"
    }
   ],
   "source": [
    "cars.isnull().sum()"
   ]
  },
  {
   "cell_type": "markdown",
   "id": "ff26e838",
   "metadata": {},
   "source": [
    "Outliers"
   ]
  },
  {
   "cell_type": "code",
   "execution_count": 14,
   "id": "62fb7c9f",
   "metadata": {},
   "outputs": [
    {
     "data": {
      "text/plain": [
       "array(['name', 'year', 'selling_price', 'km_driven', 'fuel',\n",
       "       'seller_type', 'transmission', 'owner'], dtype=object)"
      ]
     },
     "execution_count": 14,
     "metadata": {},
     "output_type": "execute_result"
    }
   ],
   "source": [
    "cars.columns.values"
   ]
  },
  {
   "cell_type": "code",
   "execution_count": 15,
   "id": "102350d6",
   "metadata": {},
   "outputs": [
    {
     "data": {
      "image/png": "[encoded data removed]",
      "text/plain": [
       "<Figure size 720x504 with 1 Axes>"
      ]
     },
     "metadata": {
      "needs_background": "light"
     },
     "output_type": "display_data"
    }
   ],
   "source": [
    "plt.figure(figsize=(10,7))\n",
    "ax = sns.boxplot(data = cars, x = 'year', color = \"green\")\n",
    "ax.set(xlabel='Year produced');"
   ]
  },
  {
   "cell_type": "markdown",
   "id": "f1ceeb0d",
   "metadata": {},
   "source": [
    "Compare mean prices of cars produced before and after year 2000"
   ]
  },
  {
   "cell_type": "code",
   "execution_count": 16,
   "id": "2873f11d",
   "metadata": {},
   "outputs": [
    {
     "name": "stdout",
     "output_type": "stream",
     "text": [
      "6.09575215368069\n"
     ]
    }
   ],
   "source": [
    "mean1 = round(cars.loc[cars.year <= 2000,\"selling_price\"].mean(),2)\n",
    "mean2 = round(cars.loc[cars.year > 2000,\"selling_price\"].mean(),2)\n",
    "print(mean2/mean1)"
   ]
  },
  {
   "cell_type": "code",
   "execution_count": 17,
   "id": "6daf4860",
   "metadata": {},
   "outputs": [
    {
     "data": {
      "image/png": "[encoded data removed]",
      "text/plain": [
       "<Figure size 720x504 with 1 Axes>"
      ]
     },
     "metadata": {
      "needs_background": "light"
     },
     "output_type": "display_data"
    }
   ],
   "source": [
    "plt.figure(figsize=(10,7))\n",
    "ax = sns.boxplot(data = cars, x = 'selling_price', color = \"blue\")\n",
    "ax.set(xlabel='Selling Price');\n",
    "ax.ticklabel_format(style='plain', axis='x')"
   ]
  },
  {
   "cell_type": "code",
   "execution_count": 18,
   "id": "0deb5e5e",
   "metadata": {},
   "outputs": [
    {
     "data": {
      "text/html": [
       "<div>\n",
       "<style scoped>\n",
       "    .dataframe tbody tr th:only-of-type {\n",
       "        vertical-align: middle;\n",
       "    }\n",
       "\n",
       "    .dataframe tbody tr th {\n",
       "        vertical-align: top;\n",
       "    }\n",
       "\n",
       "    .dataframe thead th {\n",
       "        text-align: right;\n",
       "    }\n",
       "</style>\n",
       "<table border=\"1\" class=\"dataframe\">\n",
       "  <thead>\n",
       "    <tr style=\"text-align: right;\">\n",
       "      <th></th>\n",
       "      <th>name</th>\n",
       "      <th>year</th>\n",
       "      <th>selling_price</th>\n",
       "      <th>km_driven</th>\n",
       "      <th>fuel</th>\n",
       "      <th>seller_type</th>\n",
       "      <th>transmission</th>\n",
       "      <th>owner</th>\n",
       "    </tr>\n",
       "  </thead>\n",
       "  <tbody>\n",
       "    <tr>\n",
       "      <th>170</th>\n",
       "      <td>Volvo</td>\n",
       "      <td>2017</td>\n",
       "      <td>10000000</td>\n",
       "      <td>30000</td>\n",
       "      <td>Petrol</td>\n",
       "      <td>Individual</td>\n",
       "      <td>Automatic</td>\n",
       "      <td>First</td>\n",
       "    </tr>\n",
       "  </tbody>\n",
       "</table>\n",
       "</div>"
      ],
      "text/plain": [
       "      name  year  selling_price  km_driven    fuel seller_type transmission  \\\n",
       "170  Volvo  2017       10000000      30000  Petrol  Individual    Automatic   \n",
       "\n",
       "     owner  \n",
       "170  First  "
      ]
     },
     "metadata": {},
     "output_type": "display_data"
    }
   ],
   "source": [
    "display(cars.loc[cars.selling_price == cars.selling_price.max(),])\n",
    "cars = cars.loc[cars.selling_price != cars.selling_price.max(),]"
   ]
  },
  {
   "cell_type": "code",
   "execution_count": 19,
   "id": "c42d9610",
   "metadata": {},
   "outputs": [
    {
     "data": {
      "image/png": "[encoded data removed]",
      "text/plain": [
       "<Figure size 720x504 with 1 Axes>"
      ]
     },
     "metadata": {
      "needs_background": "light"
     },
     "output_type": "display_data"
    }
   ],
   "source": [
    "plt.figure(figsize=(10,7))\n",
    "ax = sns.boxplot(data = cars, x = 'selling_price', color = \"blue\")\n",
    "ax.set(xlabel='Selling Price');\n",
    "ax.ticklabel_format(style='plain', axis='x')"
   ]
  },
  {
   "cell_type": "code",
   "execution_count": 20,
   "id": "a372e7aa",
   "metadata": {},
   "outputs": [
    {
     "data": {
      "image/png": "[encoded data removed]",
      "text/plain": [
       "<Figure size 432x288 with 1 Axes>"
      ]
     },
     "metadata": {
      "needs_background": "light"
     },
     "output_type": "display_data"
    }
   ],
   "source": [
    "ax = sns.boxplot(data = cars, x = 'km_driven', color = \"red\")\n",
    "ax.set(xlabel='Kms driven');\n",
    "ax.ticklabel_format(style='plain', axis='x')"
   ]
  },
  {
   "cell_type": "code",
   "execution_count": 21,
   "id": "6b0eb657",
   "metadata": {},
   "outputs": [
    {
     "name": "stdout",
     "output_type": "stream",
     "text": [
      "(6924, 8)\n",
      "(6922, 8)\n"
     ]
    }
   ],
   "source": [
    "print(cars.shape)\n",
    "cars = cars.loc[cars.km_driven <= 1000000,].reset_index(drop=True)\n",
    "print(cars.shape)"
   ]
  },
  {
   "cell_type": "markdown",
   "id": "e7110d2d",
   "metadata": {},
   "source": [
    "### TARGET VARIABLE - NORMALITY ASSUMPTION"
   ]
  },
  {
   "cell_type": "code",
   "execution_count": 22,
   "id": "8d5f64da",
   "metadata": {},
   "outputs": [
    {
     "name": "stderr",
     "output_type": "stream",
     "text": [
      "C:\\Users\\woote\\anaconda3\\lib\\site-packages\\seaborn\\distributions.py:2557: FutureWarning: `distplot` is a deprecated function and will be removed in a future version. Please adapt your code to use either `displot` (a figure-level function with similar flexibility) or `histplot` (an axes-level function for histograms).\n",
      "  warnings.warn(msg, FutureWarning)\n"
     ]
    },
    {
     "data": {
      "image/png": "[encoded data removed]",
      "text/plain": [
       "<Figure size 720x504 with 1 Axes>"
      ]
     },
     "metadata": {
      "needs_background": "light"
     },
     "output_type": "display_data"
    }
   ],
   "source": [
    "plt.figure(figsize=(10,7))\n",
    "ax1 = sns.distplot(cars.loc[:,'selling_price'], norm_hist=True)\n",
    "## Set the title. \n",
    "ax1.set_title('Histogram')\n",
    "ax1.set(xlabel='Selling Price')\n",
    "ax1.ticklabel_format(style='plain', axis='x');"
   ]
  },
  {
   "cell_type": "code",
   "execution_count": 23,
   "id": "53560b12",
   "metadata": {},
   "outputs": [
    {
     "data": {
      "image/png": "[encoded data removed]",
      "text/plain": [
       "<Figure size 720x504 with 1 Axes>"
      ]
     },
     "metadata": {
      "needs_background": "light"
     },
     "output_type": "display_data"
    }
   ],
   "source": [
    "# customizing the QQ_plot. \n",
    "plt.figure(figsize=(10,7))\n",
    "## Set the title. \n",
    "ax1.set_title('QQ_plot')\n",
    "## Plotting the QQ_Plot. \n",
    "stats.probplot(cars.loc[:,'selling_price'], plot = plt);"
   ]
  },
  {
   "cell_type": "code",
   "execution_count": 24,
   "id": "ed97b9b5",
   "metadata": {},
   "outputs": [
    {
     "data": {
      "text/plain": [
       "NormaltestResult(statistic=7102.93049405959, pvalue=0.0)"
      ]
     },
     "execution_count": 24,
     "metadata": {},
     "output_type": "execute_result"
    }
   ],
   "source": [
    "normaltest(cars.selling_price.values)"
   ]
  },
  {
   "cell_type": "markdown",
   "id": "5bf600e8",
   "metadata": {},
   "source": [
    "#### First approach - Log transform"
   ]
  },
  {
   "cell_type": "code",
   "execution_count": 25,
   "id": "897a9965",
   "metadata": {},
   "outputs": [],
   "source": [
    "cars['selling_price_log'] = np.log(cars['selling_price'])"
   ]
  },
  {
   "cell_type": "code",
   "execution_count": 26,
   "id": "b48c9d63",
   "metadata": {},
   "outputs": [
    {
     "name": "stderr",
     "output_type": "stream",
     "text": [
      "C:\\Users\\woote\\anaconda3\\lib\\site-packages\\seaborn\\distributions.py:2557: FutureWarning: `distplot` is a deprecated function and will be removed in a future version. Please adapt your code to use either `displot` (a figure-level function with similar flexibility) or `histplot` (an axes-level function for histograms).\n",
      "  warnings.warn(msg, FutureWarning)\n"
     ]
    },
    {
     "data": {
      "image/png": "[encoded data removed]",
      "text/plain": [
       "<Figure size 720x504 with 1 Axes>"
      ]
     },
     "metadata": {
      "needs_background": "light"
     },
     "output_type": "display_data"
    }
   ],
   "source": [
    "#Histogram\n",
    "plt.figure(figsize=(10,7))\n",
    "ax1 = sns.distplot(cars.loc[:,'selling_price_log'], norm_hist=True)\n",
    "ax1.set_title('Histogram')\n",
    "ax1.set(xlabel='Selling Price (Log Transform)')\n",
    "ax1.ticklabel_format(style='plain', axis='x');"
   ]
  },
  {
   "cell_type": "code",
   "execution_count": 27,
   "id": "af4422cd",
   "metadata": {},
   "outputs": [
    {
     "data": {
      "image/png": "[encoded data removed]",
      "text/plain": [
       "<Figure size 720x504 with 1 Axes>"
      ]
     },
     "metadata": {
      "needs_background": "light"
     },
     "output_type": "display_data"
    }
   ],
   "source": [
    "# QQ_plot. \n",
    "plt.figure(figsize=(10,7))\n",
    "stats.probplot(cars.loc[:,'selling_price_log'], plot = plt);"
   ]
  },
  {
   "cell_type": "code",
   "execution_count": 28,
   "id": "172ebd51",
   "metadata": {},
   "outputs": [
    {
     "data": {
      "text/plain": [
       "NormaltestResult(statistic=107.48782260618975, pvalue=4.56368736193202e-24)"
      ]
     },
     "execution_count": 28,
     "metadata": {},
     "output_type": "execute_result"
    }
   ],
   "source": [
    "normaltest(cars.selling_price_log.values)"
   ]
  },
  {
   "cell_type": "markdown",
   "id": "62ffc6e1",
   "metadata": {},
   "source": [
    "#### Second approach - Box-Cox transformation"
   ]
  },
  {
   "cell_type": "code",
   "execution_count": 29,
   "id": "1e612b9e",
   "metadata": {},
   "outputs": [],
   "source": [
    "boxcox_tr = boxcox(cars['selling_price'])\n",
    "cars['selling_price_boxcox'] = boxcox_tr[0]\n",
    "lambda_bc = boxcox_tr[1]"
   ]
  },
  {
   "cell_type": "code",
   "execution_count": 30,
   "id": "482610e8",
   "metadata": {},
   "outputs": [
    {
     "name": "stderr",
     "output_type": "stream",
     "text": [
      "C:\\Users\\woote\\anaconda3\\lib\\site-packages\\seaborn\\distributions.py:2557: FutureWarning: `distplot` is a deprecated function and will be removed in a future version. Please adapt your code to use either `displot` (a figure-level function with similar flexibility) or `histplot` (an axes-level function for histograms).\n",
      "  warnings.warn(msg, FutureWarning)\n"
     ]
    },
    {
     "data": {
      "image/png": "[encoded data removed]",
      "text/plain": [
       "<Figure size 720x504 with 1 Axes>"
      ]
     },
     "metadata": {
      "needs_background": "light"
     },
     "output_type": "display_data"
    }
   ],
   "source": [
    "#Histogram\n",
    "plt.figure(figsize=(10,7))\n",
    "ax1 = sns.distplot(cars.loc[:,'selling_price_boxcox'], norm_hist=True)\n",
    "ax1.set_title('Histogram')\n",
    "ax1.set(xlabel='Selling Price (Box-Cox Transform)')\n",
    "ax1.ticklabel_format(style='plain', axis='x');"
   ]
  },
  {
   "cell_type": "code",
   "execution_count": 31,
   "id": "17c8bfa1",
   "metadata": {},
   "outputs": [
    {
     "data": {
      "image/png": "[encoded data removed]",
      "text/plain": [
       "<Figure size 720x504 with 1 Axes>"
      ]
     },
     "metadata": {
      "needs_background": "light"
     },
     "output_type": "display_data"
    }
   ],
   "source": [
    "# QQ_plot. \n",
    "plt.figure(figsize=(10,7))\n",
    "stats.probplot(cars.loc[:,'selling_price_boxcox'], plot = plt);"
   ]
  },
  {
   "cell_type": "code",
   "execution_count": 32,
   "id": "202baf31",
   "metadata": {},
   "outputs": [
    {
     "data": {
      "text/plain": [
       "NormaltestResult(statistic=93.09344455793112, pvalue=6.0955846054342926e-21)"
      ]
     },
     "execution_count": 32,
     "metadata": {},
     "output_type": "execute_result"
    }
   ],
   "source": [
    "normaltest(cars['selling_price_boxcox'])"
   ]
  },
  {
   "cell_type": "markdown",
   "id": "54530a63",
   "metadata": {},
   "source": [
    "### Homoscedasticity"
   ]
  },
  {
   "cell_type": "code",
   "execution_count": 33,
   "id": "c626f78c",
   "metadata": {},
   "outputs": [
    {
     "data": {
      "text/plain": [
       "name                     object\n",
       "year                      int64\n",
       "selling_price             int64\n",
       "km_driven                 int64\n",
       "fuel                     object\n",
       "seller_type              object\n",
       "transmission             object\n",
       "owner                    object\n",
       "selling_price_log       float64\n",
       "selling_price_boxcox    float64\n",
       "dtype: object"
      ]
     },
     "execution_count": 33,
     "metadata": {},
     "output_type": "execute_result"
    }
   ],
   "source": [
    "#Once again check dtypes\n",
    "cars.dtypes"
   ]
  },
  {
   "cell_type": "code",
   "execution_count": 34,
   "id": "70d1e30a",
   "metadata": {},
   "outputs": [
    {
     "name": "stderr",
     "output_type": "stream",
     "text": [
      "C:\\Users\\woote\\anaconda3\\lib\\site-packages\\seaborn\\_decorators.py:36: FutureWarning: Pass the following variables as keyword args: x, y. From version 0.12, the only valid positional argument will be `data`, and passing other arguments without an explicit keyword will result in an error or misinterpretation.\n",
      "  warnings.warn(\n"
     ]
    },
    {
     "data": {
      "image/png": "[encoded data removed]",
      "text/plain": [
       "<Figure size 864x576 with 1 Axes>"
      ]
     },
     "metadata": {
      "needs_background": "light"
     },
     "output_type": "display_data"
    }
   ],
   "source": [
    "plt.subplots(figsize = (12,8))\n",
    "ax1 = sns.residplot(cars.selling_price_boxcox, cars.km_driven)\n",
    "ax1.set_title('Residual Plot')\n",
    "ax1.set(xlabel='Selling Prive (Box-Cox Transformation)',ylabel = \"Kms Driven\")\n",
    "ax1.ticklabel_format(style='plain', axis='y');"
   ]
  },
  {
   "cell_type": "markdown",
   "id": "3f5a6774",
   "metadata": {},
   "source": [
    "### Linearity"
   ]
  },
  {
   "cell_type": "code",
   "execution_count": 35,
   "id": "ca8f175a",
   "metadata": {},
   "outputs": [
    {
     "data": {
      "image/png": "[encoded data removed]",
      "text/plain": [
       "<Figure size 864x576 with 2 Axes>"
      ]
     },
     "metadata": {
      "needs_background": "light"
     },
     "output_type": "display_data"
    }
   ],
   "source": [
    "fig, (ax1, ax2) = plt.subplots(figsize = (12,8), ncols=2,sharey=False)\n",
    "sns.scatterplot(x = cars.year, y = cars.selling_price_boxcox,  ax=ax1)\n",
    "sns.regplot(x = cars.year, y = cars.selling_price_boxcox, ax=ax1)\n",
    "ax1.set(ylabel='Selling Prive (Box-Cox Transformation)',xlabel = \"Year\")\n",
    " \n",
    "sns.scatterplot(x = cars.km_driven, y = cars.selling_price_boxcox, ax=ax2)\n",
    "sns.regplot(x = cars.km_driven, y = cars.selling_price_boxcox, ax=ax2)\n",
    "ax2.set(ylabel='Selling Prive (Box-Cox Transformation)',xlabel = \"Kms Driven\")\n",
    "ax2.ticklabel_format(style='plain', axis='x');\n",
    "fig.suptitle(\"Scatter Plots\");"
   ]
  },
  {
   "cell_type": "markdown",
   "id": "db7d9ad2",
   "metadata": {},
   "source": [
    "### Multicolinearity"
   ]
  },
  {
   "cell_type": "code",
   "execution_count": 36,
   "id": "7b8cf197",
   "metadata": {},
   "outputs": [
    {
     "data": {
      "image/png": "[encoded data removed]",
      "text/plain": [
       "<Figure size 432x432 with 2 Axes>"
      ]
     },
     "metadata": {
      "needs_background": "light"
     },
     "output_type": "display_data"
    }
   ],
   "source": [
    "numerical = cars[['year','km_driven']]\n",
    "plt.figure(figsize = [6,6])\n",
    "sns.heatmap(data = numerical.corr(), annot = True, cmap = \"YlGnBu\");"
   ]
  },
  {
   "cell_type": "code",
   "execution_count": 37,
   "id": "91773192",
   "metadata": {},
   "outputs": [],
   "source": [
    "cars.drop(['selling_price','selling_price_log','km_driven','name'],axis = 1,inplace = True)\n",
    "y = cars['selling_price_boxcox']\n",
    "x = cars.drop(['selling_price_boxcox'],axis = 1)"
   ]
  },
  {
   "cell_type": "code",
   "execution_count": 38,
   "id": "054e3070",
   "metadata": {},
   "outputs": [
    {
     "name": "stdout",
     "output_type": "stream",
     "text": [
      "column name: fuel\n",
      "value_count:\n",
      "Diesel    3753\n",
      "Petrol    3075\n",
      "CNG         56\n",
      "LPG         38\n",
      "Name: fuel, dtype: int64\n",
      "column name: seller_type\n",
      "value_count:\n",
      "Individual          6215\n",
      "Dealer               680\n",
      "Trustmark Dealer      27\n",
      "Name: seller_type, dtype: int64\n",
      "column name: transmission\n",
      "value_count:\n",
      "Manual       6339\n",
      "Automatic     583\n",
      "Name: transmission, dtype: int64\n",
      "column name: owner\n",
      "value_count:\n",
      "First             4239\n",
      "Second            1973\n",
      "Third              536\n",
      "Fourth & Above     169\n",
      "Test Drive Car       5\n",
      "Name: owner, dtype: int64\n"
     ]
    }
   ],
   "source": [
    "categorical_columns=[key for key, value in cars.dtypes.iteritems() if value=='O']\n",
    "for column in  categorical_columns:\n",
    "    print(\"column name:\", column)\n",
    "    print(\"value_count:\")\n",
    "    print(cars[column].value_counts())"
   ]
  },
  {
   "cell_type": "code",
   "execution_count": 39,
   "id": "d284cc06",
   "metadata": {},
   "outputs": [],
   "source": [
    "v_cramer = pd.DataFrame()\n",
    "results = []\n",
    "v_cramer[\"features\"] = [a + ' / ' + b for a in categorical_columns for b in categorical_columns if a != b]\n",
    "for a,b in [(a,b) for a in categorical_columns for b in categorical_columns if a != b]:\n",
    "    data_crosstab = pd.crosstab(x[a], x[b],margins = False)\n",
    "    chi2, p, dof, con_table = stats.chi2_contingency(data_crosstab)\n",
    "    n = data_crosstab.sum().sum()\n",
    "    dof = min(data_crosstab.shape)-1\n",
    "    # Calculate Cramer's \n",
    "    results.append(np.sqrt(chi2/(n*dof)))\n",
    "v_cramer['resuls'] = results"
   ]
  },
  {
   "cell_type": "code",
   "execution_count": 40,
   "id": "5b233551",
   "metadata": {},
   "outputs": [
    {
     "name": "stdout",
     "output_type": "stream",
     "text": [
      "(6922, 5)\n",
      "(6922, 11)\n"
     ]
    }
   ],
   "source": [
    "print(x.shape)\n",
    "x = pd.get_dummies(x, prefix=None, prefix_sep='_', drop_first=True)\n",
    "print(x.shape)"
   ]
  },
  {
   "cell_type": "code",
   "execution_count": 41,
   "id": "3e03a2ab",
   "metadata": {},
   "outputs": [
    {
     "data": {
      "image/png": "[encoded data removed]",
      "text/plain": [
       "<Figure size 720x720 with 2 Axes>"
      ]
     },
     "metadata": {
      "needs_background": "light"
     },
     "output_type": "display_data"
    }
   ],
   "source": [
    "plt.figure(figsize = [10,10])\n",
    "sns.heatmap(data = x.corr(), annot = True, cmap = \"YlGnBu\");"
   ]
  },
  {
   "cell_type": "code",
   "execution_count": 42,
   "id": "f1757bdd",
   "metadata": {},
   "outputs": [
    {
     "data": {
      "text/html": [
       "<div>\n",
       "<style scoped>\n",
       "    .dataframe tbody tr th:only-of-type {\n",
       "        vertical-align: middle;\n",
       "    }\n",
       "\n",
       "    .dataframe tbody tr th {\n",
       "        vertical-align: top;\n",
       "    }\n",
       "\n",
       "    .dataframe thead th {\n",
       "        text-align: right;\n",
       "    }\n",
       "</style>\n",
       "<table border=\"1\" class=\"dataframe\">\n",
       "  <thead>\n",
       "    <tr style=\"text-align: right;\">\n",
       "      <th></th>\n",
       "      <th>features</th>\n",
       "      <th>resuls</th>\n",
       "    </tr>\n",
       "  </thead>\n",
       "  <tbody>\n",
       "    <tr>\n",
       "      <th>0</th>\n",
       "      <td>fuel / seller_type</td>\n",
       "      <td>0.050539</td>\n",
       "    </tr>\n",
       "    <tr>\n",
       "      <th>1</th>\n",
       "      <td>fuel / transmission</td>\n",
       "      <td>0.042713</td>\n",
       "    </tr>\n",
       "    <tr>\n",
       "      <th>2</th>\n",
       "      <td>fuel / owner</td>\n",
       "      <td>0.032458</td>\n",
       "    </tr>\n",
       "    <tr>\n",
       "      <th>3</th>\n",
       "      <td>seller_type / fuel</td>\n",
       "      <td>0.050539</td>\n",
       "    </tr>\n",
       "    <tr>\n",
       "      <th>4</th>\n",
       "      <td>seller_type / transmission</td>\n",
       "      <td>0.211931</td>\n",
       "    </tr>\n",
       "    <tr>\n",
       "      <th>5</th>\n",
       "      <td>seller_type / owner</td>\n",
       "      <td>0.136735</td>\n",
       "    </tr>\n",
       "    <tr>\n",
       "      <th>6</th>\n",
       "      <td>transmission / fuel</td>\n",
       "      <td>0.042713</td>\n",
       "    </tr>\n",
       "    <tr>\n",
       "      <th>7</th>\n",
       "      <td>transmission / seller_type</td>\n",
       "      <td>0.211931</td>\n",
       "    </tr>\n",
       "    <tr>\n",
       "      <th>8</th>\n",
       "      <td>transmission / owner</td>\n",
       "      <td>0.112560</td>\n",
       "    </tr>\n",
       "    <tr>\n",
       "      <th>9</th>\n",
       "      <td>owner / fuel</td>\n",
       "      <td>0.032458</td>\n",
       "    </tr>\n",
       "    <tr>\n",
       "      <th>10</th>\n",
       "      <td>owner / seller_type</td>\n",
       "      <td>0.136735</td>\n",
       "    </tr>\n",
       "    <tr>\n",
       "      <th>11</th>\n",
       "      <td>owner / transmission</td>\n",
       "      <td>0.112560</td>\n",
       "    </tr>\n",
       "  </tbody>\n",
       "</table>\n",
       "</div>"
      ],
      "text/plain": [
       "                      features    resuls\n",
       "0           fuel / seller_type  0.050539\n",
       "1          fuel / transmission  0.042713\n",
       "2                 fuel / owner  0.032458\n",
       "3           seller_type / fuel  0.050539\n",
       "4   seller_type / transmission  0.211931\n",
       "5          seller_type / owner  0.136735\n",
       "6          transmission / fuel  0.042713\n",
       "7   transmission / seller_type  0.211931\n",
       "8         transmission / owner  0.112560\n",
       "9                 owner / fuel  0.032458\n",
       "10         owner / seller_type  0.136735\n",
       "11        owner / transmission  0.112560"
      ]
     },
     "execution_count": 42,
     "metadata": {},
     "output_type": "execute_result"
    }
   ],
   "source": [
    "v_cramer"
   ]
  },
  {
   "cell_type": "markdown",
   "id": "ee9dcc38",
   "metadata": {},
   "source": [
    "## MODELLING"
   ]
  },
  {
   "cell_type": "code",
   "execution_count": 43,
   "id": "a8a1dec3",
   "metadata": {},
   "outputs": [
    {
     "data": {
      "text/html": [
       "<div>\n",
       "<style scoped>\n",
       "    .dataframe tbody tr th:only-of-type {\n",
       "        vertical-align: middle;\n",
       "    }\n",
       "\n",
       "    .dataframe tbody tr th {\n",
       "        vertical-align: top;\n",
       "    }\n",
       "\n",
       "    .dataframe thead th {\n",
       "        text-align: right;\n",
       "    }\n",
       "</style>\n",
       "<table border=\"1\" class=\"dataframe\">\n",
       "  <thead>\n",
       "    <tr style=\"text-align: right;\">\n",
       "      <th></th>\n",
       "      <th>year</th>\n",
       "      <th>fuel_Diesel</th>\n",
       "      <th>fuel_LPG</th>\n",
       "      <th>fuel_Petrol</th>\n",
       "      <th>seller_type_Individual</th>\n",
       "      <th>seller_type_Trustmark Dealer</th>\n",
       "      <th>transmission_Manual</th>\n",
       "      <th>owner_Fourth &amp; Above</th>\n",
       "      <th>owner_Second</th>\n",
       "      <th>owner_Test Drive Car</th>\n",
       "      <th>owner_Third</th>\n",
       "    </tr>\n",
       "  </thead>\n",
       "  <tbody>\n",
       "    <tr>\n",
       "      <th>0</th>\n",
       "      <td>2014</td>\n",
       "      <td>1</td>\n",
       "      <td>0</td>\n",
       "      <td>0</td>\n",
       "      <td>1</td>\n",
       "      <td>0</td>\n",
       "      <td>1</td>\n",
       "      <td>0</td>\n",
       "      <td>0</td>\n",
       "      <td>0</td>\n",
       "      <td>0</td>\n",
       "    </tr>\n",
       "    <tr>\n",
       "      <th>1</th>\n",
       "      <td>2014</td>\n",
       "      <td>1</td>\n",
       "      <td>0</td>\n",
       "      <td>0</td>\n",
       "      <td>1</td>\n",
       "      <td>0</td>\n",
       "      <td>1</td>\n",
       "      <td>0</td>\n",
       "      <td>1</td>\n",
       "      <td>0</td>\n",
       "      <td>0</td>\n",
       "    </tr>\n",
       "    <tr>\n",
       "      <th>2</th>\n",
       "      <td>2006</td>\n",
       "      <td>0</td>\n",
       "      <td>0</td>\n",
       "      <td>1</td>\n",
       "      <td>1</td>\n",
       "      <td>0</td>\n",
       "      <td>1</td>\n",
       "      <td>0</td>\n",
       "      <td>0</td>\n",
       "      <td>0</td>\n",
       "      <td>1</td>\n",
       "    </tr>\n",
       "    <tr>\n",
       "      <th>3</th>\n",
       "      <td>2010</td>\n",
       "      <td>1</td>\n",
       "      <td>0</td>\n",
       "      <td>0</td>\n",
       "      <td>1</td>\n",
       "      <td>0</td>\n",
       "      <td>1</td>\n",
       "      <td>0</td>\n",
       "      <td>0</td>\n",
       "      <td>0</td>\n",
       "      <td>0</td>\n",
       "    </tr>\n",
       "    <tr>\n",
       "      <th>4</th>\n",
       "      <td>2007</td>\n",
       "      <td>0</td>\n",
       "      <td>0</td>\n",
       "      <td>1</td>\n",
       "      <td>1</td>\n",
       "      <td>0</td>\n",
       "      <td>1</td>\n",
       "      <td>0</td>\n",
       "      <td>0</td>\n",
       "      <td>0</td>\n",
       "      <td>0</td>\n",
       "    </tr>\n",
       "  </tbody>\n",
       "</table>\n",
       "</div>"
      ],
      "text/plain": [
       "   year  fuel_Diesel  fuel_LPG  fuel_Petrol  seller_type_Individual  \\\n",
       "0  2014            1         0            0                       1   \n",
       "1  2014            1         0            0                       1   \n",
       "2  2006            0         0            1                       1   \n",
       "3  2010            1         0            0                       1   \n",
       "4  2007            0         0            1                       1   \n",
       "\n",
       "   seller_type_Trustmark Dealer  transmission_Manual  owner_Fourth & Above  \\\n",
       "0                             0                    1                     0   \n",
       "1                             0                    1                     0   \n",
       "2                             0                    1                     0   \n",
       "3                             0                    1                     0   \n",
       "4                             0                    1                     0   \n",
       "\n",
       "   owner_Second  owner_Test Drive Car  owner_Third  \n",
       "0             0                     0            0  \n",
       "1             1                     0            0  \n",
       "2             0                     0            1  \n",
       "3             0                     0            0  \n",
       "4             0                     0            0  "
      ]
     },
     "execution_count": 43,
     "metadata": {},
     "output_type": "execute_result"
    }
   ],
   "source": [
    "x.head()"
   ]
  },
  {
   "cell_type": "code",
   "execution_count": 44,
   "id": "83851d6a",
   "metadata": {},
   "outputs": [
    {
     "data": {
      "text/html": [
       "<div>\n",
       "<style scoped>\n",
       "    .dataframe tbody tr th:only-of-type {\n",
       "        vertical-align: middle;\n",
       "    }\n",
       "\n",
       "    .dataframe tbody tr th {\n",
       "        vertical-align: top;\n",
       "    }\n",
       "\n",
       "    .dataframe thead th {\n",
       "        text-align: right;\n",
       "    }\n",
       "</style>\n",
       "<table border=\"1\" class=\"dataframe\">\n",
       "  <thead>\n",
       "    <tr style=\"text-align: right;\">\n",
       "      <th></th>\n",
       "      <th>selling_price_boxcox</th>\n",
       "    </tr>\n",
       "  </thead>\n",
       "  <tbody>\n",
       "    <tr>\n",
       "      <th>0</th>\n",
       "      <td>19.364328</td>\n",
       "    </tr>\n",
       "    <tr>\n",
       "      <th>1</th>\n",
       "      <td>18.953103</td>\n",
       "    </tr>\n",
       "    <tr>\n",
       "      <th>2</th>\n",
       "      <td>17.218283</td>\n",
       "    </tr>\n",
       "    <tr>\n",
       "      <th>3</th>\n",
       "      <td>17.928720</td>\n",
       "    </tr>\n",
       "    <tr>\n",
       "      <th>4</th>\n",
       "      <td>16.832405</td>\n",
       "    </tr>\n",
       "  </tbody>\n",
       "</table>\n",
       "</div>"
      ],
      "text/plain": [
       "   selling_price_boxcox\n",
       "0             19.364328\n",
       "1             18.953103\n",
       "2             17.218283\n",
       "3             17.928720\n",
       "4             16.832405"
      ]
     },
     "execution_count": 44,
     "metadata": {},
     "output_type": "execute_result"
    }
   ],
   "source": [
    "y.head().to_frame()"
   ]
  },
  {
   "cell_type": "markdown",
   "id": "5753356a",
   "metadata": {},
   "source": [
    "### Train Test Split"
   ]
  },
  {
   "cell_type": "code",
   "execution_count": 45,
   "id": "d4f7539e",
   "metadata": {},
   "outputs": [
    {
     "name": "stdout",
     "output_type": "stream",
     "text": [
      "number of test samples : 2077\n",
      "number of training samples: 4845\n"
     ]
    }
   ],
   "source": [
    "X_train, X_test, y_train, y_test = train_test_split(x,y, test_size=0.3, random_state=42)\n",
    "print(\"number of test samples :\", X_test.shape[0])\n",
    "print(\"number of training samples:\",X_train.shape[0])"
   ]
  },
  {
   "cell_type": "code",
   "execution_count": 493,
   "id": "92c0f0ea",
   "metadata": {},
   "outputs": [],
   "source": [
    "#https://datascience.stackexchange.com/questions/54908/data-normalization-before-or-after-train-test-split"
   ]
  },
  {
   "cell_type": "markdown",
   "id": "84e1523e",
   "metadata": {},
   "source": [
    "### Basic LR"
   ]
  },
  {
   "cell_type": "code",
   "execution_count": 84,
   "id": "ea28a8ee",
   "metadata": {},
   "outputs": [
    {
     "name": "stdout",
     "output_type": "stream",
     "text": [
      "R^2 on training  data  0.6848454115151734\n",
      "R^2 on testing data  0.6885313515765907\n"
     ]
    }
   ],
   "source": [
    "lm = LinearRegression()\n",
    "lm.fit(X_train, y_train)\n",
    "predicted = lm.predict(X_test)\n",
    "print(\"R^2 on training  data \",lm.score(X_train, y_train))\n",
    "print(\"R^2 on testing data \",lm.score(X_test,y_test))"
   ]
  },
  {
   "cell_type": "markdown",
   "id": "d465132c",
   "metadata": {},
   "source": [
    "So, arond 68% of variability in the training data is explained by our model\n",
    "Using the test data  𝑅2 , we get ~0.69"
   ]
  },
  {
   "cell_type": "code",
   "execution_count": 85,
   "id": "b29bbbc8",
   "metadata": {},
   "outputs": [
    {
     "data": {
      "text/plain": [
       "0.6885313515765907"
      ]
     },
     "execution_count": 85,
     "metadata": {},
     "output_type": "execute_result"
    }
   ],
   "source": [
    "r2_score(y_test.values, predicted)"
   ]
  },
  {
   "cell_type": "code",
   "execution_count": 86,
   "id": "660d1e80",
   "metadata": {},
   "outputs": [
    {
     "data": {
      "text/plain": [
       "0.8411514008132068"
      ]
     },
     "execution_count": 86,
     "metadata": {},
     "output_type": "execute_result"
    }
   ],
   "source": [
    "mse = mean_squared_error(y_true=y_test, y_pred=predicted)\n",
    "mse"
   ]
  },
  {
   "cell_type": "markdown",
   "id": "ede381c1",
   "metadata": {},
   "source": [
    "### LR with Polynomial Features"
   ]
  },
  {
   "cell_type": "code",
   "execution_count": 128,
   "id": "faa3dd14",
   "metadata": {},
   "outputs": [],
   "source": [
    "Input_polynomial = [('ss',StandardScaler()),('polynomial', PolynomialFeatures()),('model', LinearRegression())]\n",
    "\n",
    "param_grid_poly = {\n",
    "    \"polynomial__degree\": [1,2,3,4]\n",
    "}\n",
    "\n",
    "pipe_poly = Pipeline(Input_polynomial)\n",
    "\n",
    "search_poly = GridSearchCV(pipe_poly, param_grid_poly, n_jobs=2,return_train_score=True,\n",
    "                           scoring={\"MSE\" : 'neg_mean_squared_error',\"R2\" : 'r2'}, refit = 'R2')"
   ]
  },
  {
   "cell_type": "code",
   "execution_count": 129,
   "id": "2ae1eba6",
   "metadata": {},
   "outputs": [
    {
     "data": {
      "text/plain": [
       "GridSearchCV(estimator=Pipeline(steps=[('ss', StandardScaler()),\n",
       "                                       ('polynomial', PolynomialFeatures()),\n",
       "                                       ('model', LinearRegression())]),\n",
       "             n_jobs=2, param_grid={'polynomial__degree': [1, 2, 3, 4]},\n",
       "             refit='R2', return_train_score=True,\n",
       "             scoring={'MSE': 'neg_mean_squared_error', 'R2': 'r2'})"
      ]
     },
     "execution_count": 129,
     "metadata": {},
     "output_type": "execute_result"
    }
   ],
   "source": [
    "search_poly.fit(X_train, y_train)\n",
    "search_poly"
   ]
  },
  {
   "cell_type": "code",
   "execution_count": 130,
   "id": "e25c48f2",
   "metadata": {},
   "outputs": [
    {
     "name": "stdout",
     "output_type": "stream",
     "text": [
      "best_score_:  0.6817252552351224\n",
      "best_params_:  {'polynomial__degree': 1}\n"
     ]
    }
   ],
   "source": [
    "print(\"best_score_: \",search_poly.best_score_)\n",
    "print(\"best_params_: \",search_poly.best_params_)"
   ]
  },
  {
   "cell_type": "code",
   "execution_count": 136,
   "id": "eb6fcd23",
   "metadata": {},
   "outputs": [
    {
     "name": "stdout",
     "output_type": "stream",
     "text": [
      "mean_test_R2  :  ['0.681725', '-2555768923705894912.000000', '-10104546002512335863808.000000', '-209737780150191645523968.000000']\n",
      "mean_train_R2  :  ['0.685151', '0.704829', '0.711442', '0.715518']\n",
      "mean_test_MSE  :  ['-0.786109', '-6529511969122822144.000000', '-25953774822365033660416.000000', '-538722442127324657745920.000000']\n",
      "params  :  [{'polynomial__degree': 1}, {'polynomial__degree': 2}, {'polynomial__degree': 3}, {'polynomial__degree': 4}]\n"
     ]
    }
   ],
   "source": [
    "for i in ['mean_test_R2', 'mean_train_R2', 'mean_test_MSE','params']:\n",
    "    if i == 'params':\n",
    "        print(i,\" : \",search_poly.cv_results_[i])\n",
    "        continue\n",
    "    print(i,\" : \",[\"{:3f}\".format(num) for num in search_poly.cv_results_[i]])"
   ]
  },
  {
   "cell_type": "markdown",
   "id": "73aacb8b",
   "metadata": {},
   "source": [
    "### Ridge Regression"
   ]
  },
  {
   "cell_type": "code",
   "execution_count": 141,
   "id": "d090afba",
   "metadata": {},
   "outputs": [],
   "source": [
    "Input_ridge = [('ss',StandardScaler()),('polynomial', PolynomialFeatures()),('ridge', Ridge())]\n",
    "\n",
    "param_grid_ridge = {\n",
    "    \"polynomial__degree\": [1,2,3],\n",
    "    'ridge__alpha': np.geomspace(1, 4, 20)\n",
    "}\n",
    "\n",
    "pipe_ridge = Pipeline(Input_ridge)\n",
    "\n",
    "search_ridge = GridSearchCV(pipe_ridge, param_grid_ridge, n_jobs=2,return_train_score=True,\n",
    "                           scoring={\"MSE\" : 'neg_mean_squared_error',\"R2\" : 'r2'}, refit = 'R2')"
   ]
  },
  {
   "cell_type": "code",
   "execution_count": 142,
   "id": "95c0ba2c",
   "metadata": {},
   "outputs": [
    {
     "data": {
      "text/plain": [
       "GridSearchCV(estimator=Pipeline(steps=[('ss', StandardScaler()),\n",
       "                                       ('polynomial', PolynomialFeatures()),\n",
       "                                       ('ridge', Ridge())]),\n",
       "             n_jobs=2,\n",
       "             param_grid={'polynomial__degree': [1, 2, 3],\n",
       "                         'ridge__alpha': array([1.        , 1.07569059, 1.15711024, 1.24469259, 1.3389041 ,\n",
       "       1.44024654, 1.54925964, 1.66652401, 1.79266419, 1.928352  ,\n",
       "       2.07431009, 2.23131584, 2.40020544, 2.5818784 , 2.77730229,\n",
       "       2.98751792, 3.21364491, 3.45688757, 3.71854142, 4.        ])},\n",
       "             refit='R2', return_train_score=True,\n",
       "             scoring={'MSE': 'neg_mean_squared_error', 'R2': 'r2'})"
      ]
     },
     "execution_count": 142,
     "metadata": {},
     "output_type": "execute_result"
    }
   ],
   "source": [
    "search_ridge.fit(X_train, y_train)\n",
    "search_ridge"
   ]
  },
  {
   "cell_type": "code",
   "execution_count": 143,
   "id": "d66b7a78",
   "metadata": {},
   "outputs": [
    {
     "name": "stdout",
     "output_type": "stream",
     "text": [
      "best_score_:  0.6962158830714141\n",
      "best_params_:  {'polynomial__degree': 2, 'ridge__alpha': 4.0}\n"
     ]
    }
   ],
   "source": [
    "print(\"best_score_: \",search_ridge.best_score_)\n",
    "print(\"best_params_: \",search_ridge.best_params_)"
   ]
  },
  {
   "cell_type": "code",
   "execution_count": 148,
   "id": "a682cb80",
   "metadata": {},
   "outputs": [
    {
     "data": {
      "text/html": [
       "<div>\n",
       "<style scoped>\n",
       "    .dataframe tbody tr th:only-of-type {\n",
       "        vertical-align: middle;\n",
       "    }\n",
       "\n",
       "    .dataframe tbody tr th {\n",
       "        vertical-align: top;\n",
       "    }\n",
       "\n",
       "    .dataframe thead th {\n",
       "        text-align: right;\n",
       "    }\n",
       "</style>\n",
       "<table border=\"1\" class=\"dataframe\">\n",
       "  <thead>\n",
       "    <tr style=\"text-align: right;\">\n",
       "      <th></th>\n",
       "      <th>mean_test_R2</th>\n",
       "      <th>mean_train_R2</th>\n",
       "      <th>mean_test_MSE</th>\n",
       "      <th>params</th>\n",
       "    </tr>\n",
       "  </thead>\n",
       "  <tbody>\n",
       "    <tr>\n",
       "      <th>39</th>\n",
       "      <td>0.70</td>\n",
       "      <td>0.70</td>\n",
       "      <td>-0.75</td>\n",
       "      <td>{'polynomial__degree': 2, 'ridge__alpha': 4.0}</td>\n",
       "    </tr>\n",
       "    <tr>\n",
       "      <th>38</th>\n",
       "      <td>0.70</td>\n",
       "      <td>0.70</td>\n",
       "      <td>-0.75</td>\n",
       "      <td>{'polynomial__degree': 2, 'ridge__alpha': 3.71...</td>\n",
       "    </tr>\n",
       "    <tr>\n",
       "      <th>37</th>\n",
       "      <td>0.70</td>\n",
       "      <td>0.70</td>\n",
       "      <td>-0.75</td>\n",
       "      <td>{'polynomial__degree': 2, 'ridge__alpha': 3.45...</td>\n",
       "    </tr>\n",
       "    <tr>\n",
       "      <th>36</th>\n",
       "      <td>0.70</td>\n",
       "      <td>0.70</td>\n",
       "      <td>-0.75</td>\n",
       "      <td>{'polynomial__degree': 2, 'ridge__alpha': 3.21...</td>\n",
       "    </tr>\n",
       "    <tr>\n",
       "      <th>35</th>\n",
       "      <td>0.70</td>\n",
       "      <td>0.70</td>\n",
       "      <td>-0.75</td>\n",
       "      <td>{'polynomial__degree': 2, 'ridge__alpha': 2.98...</td>\n",
       "    </tr>\n",
       "    <tr>\n",
       "      <th>34</th>\n",
       "      <td>0.70</td>\n",
       "      <td>0.70</td>\n",
       "      <td>-0.75</td>\n",
       "      <td>{'polynomial__degree': 2, 'ridge__alpha': 2.77...</td>\n",
       "    </tr>\n",
       "    <tr>\n",
       "      <th>33</th>\n",
       "      <td>0.70</td>\n",
       "      <td>0.70</td>\n",
       "      <td>-0.75</td>\n",
       "      <td>{'polynomial__degree': 2, 'ridge__alpha': 2.58...</td>\n",
       "    </tr>\n",
       "    <tr>\n",
       "      <th>32</th>\n",
       "      <td>0.70</td>\n",
       "      <td>0.70</td>\n",
       "      <td>-0.75</td>\n",
       "      <td>{'polynomial__degree': 2, 'ridge__alpha': 2.40...</td>\n",
       "    </tr>\n",
       "    <tr>\n",
       "      <th>31</th>\n",
       "      <td>0.70</td>\n",
       "      <td>0.70</td>\n",
       "      <td>-0.75</td>\n",
       "      <td>{'polynomial__degree': 2, 'ridge__alpha': 2.23...</td>\n",
       "    </tr>\n",
       "    <tr>\n",
       "      <th>30</th>\n",
       "      <td>0.70</td>\n",
       "      <td>0.70</td>\n",
       "      <td>-0.75</td>\n",
       "      <td>{'polynomial__degree': 2, 'ridge__alpha': 2.07...</td>\n",
       "    </tr>\n",
       "    <tr>\n",
       "      <th>29</th>\n",
       "      <td>0.70</td>\n",
       "      <td>0.70</td>\n",
       "      <td>-0.75</td>\n",
       "      <td>{'polynomial__degree': 2, 'ridge__alpha': 1.92...</td>\n",
       "    </tr>\n",
       "    <tr>\n",
       "      <th>28</th>\n",
       "      <td>0.70</td>\n",
       "      <td>0.70</td>\n",
       "      <td>-0.75</td>\n",
       "      <td>{'polynomial__degree': 2, 'ridge__alpha': 1.79...</td>\n",
       "    </tr>\n",
       "    <tr>\n",
       "      <th>27</th>\n",
       "      <td>0.70</td>\n",
       "      <td>0.70</td>\n",
       "      <td>-0.75</td>\n",
       "      <td>{'polynomial__degree': 2, 'ridge__alpha': 1.66...</td>\n",
       "    </tr>\n",
       "    <tr>\n",
       "      <th>26</th>\n",
       "      <td>0.70</td>\n",
       "      <td>0.70</td>\n",
       "      <td>-0.75</td>\n",
       "      <td>{'polynomial__degree': 2, 'ridge__alpha': 1.54...</td>\n",
       "    </tr>\n",
       "    <tr>\n",
       "      <th>25</th>\n",
       "      <td>0.70</td>\n",
       "      <td>0.70</td>\n",
       "      <td>-0.75</td>\n",
       "      <td>{'polynomial__degree': 2, 'ridge__alpha': 1.44...</td>\n",
       "    </tr>\n",
       "    <tr>\n",
       "      <th>24</th>\n",
       "      <td>0.70</td>\n",
       "      <td>0.70</td>\n",
       "      <td>-0.75</td>\n",
       "      <td>{'polynomial__degree': 2, 'ridge__alpha': 1.33...</td>\n",
       "    </tr>\n",
       "    <tr>\n",
       "      <th>23</th>\n",
       "      <td>0.70</td>\n",
       "      <td>0.70</td>\n",
       "      <td>-0.75</td>\n",
       "      <td>{'polynomial__degree': 2, 'ridge__alpha': 1.24...</td>\n",
       "    </tr>\n",
       "    <tr>\n",
       "      <th>22</th>\n",
       "      <td>0.70</td>\n",
       "      <td>0.70</td>\n",
       "      <td>-0.75</td>\n",
       "      <td>{'polynomial__degree': 2, 'ridge__alpha': 1.15...</td>\n",
       "    </tr>\n",
       "    <tr>\n",
       "      <th>21</th>\n",
       "      <td>0.70</td>\n",
       "      <td>0.70</td>\n",
       "      <td>-0.75</td>\n",
       "      <td>{'polynomial__degree': 2, 'ridge__alpha': 1.07...</td>\n",
       "    </tr>\n",
       "    <tr>\n",
       "      <th>20</th>\n",
       "      <td>0.70</td>\n",
       "      <td>0.70</td>\n",
       "      <td>-0.75</td>\n",
       "      <td>{'polynomial__degree': 2, 'ridge__alpha': 1.0}</td>\n",
       "    </tr>\n",
       "    <tr>\n",
       "      <th>59</th>\n",
       "      <td>0.68</td>\n",
       "      <td>0.71</td>\n",
       "      <td>-0.78</td>\n",
       "      <td>{'polynomial__degree': 3, 'ridge__alpha': 4.0}</td>\n",
       "    </tr>\n",
       "    <tr>\n",
       "      <th>58</th>\n",
       "      <td>0.68</td>\n",
       "      <td>0.71</td>\n",
       "      <td>-0.79</td>\n",
       "      <td>{'polynomial__degree': 3, 'ridge__alpha': 3.71...</td>\n",
       "    </tr>\n",
       "    <tr>\n",
       "      <th>10</th>\n",
       "      <td>0.68</td>\n",
       "      <td>0.69</td>\n",
       "      <td>-0.79</td>\n",
       "      <td>{'polynomial__degree': 1, 'ridge__alpha': 2.07...</td>\n",
       "    </tr>\n",
       "    <tr>\n",
       "      <th>9</th>\n",
       "      <td>0.68</td>\n",
       "      <td>0.69</td>\n",
       "      <td>-0.79</td>\n",
       "      <td>{'polynomial__degree': 1, 'ridge__alpha': 1.92...</td>\n",
       "    </tr>\n",
       "    <tr>\n",
       "      <th>11</th>\n",
       "      <td>0.68</td>\n",
       "      <td>0.69</td>\n",
       "      <td>-0.79</td>\n",
       "      <td>{'polynomial__degree': 1, 'ridge__alpha': 2.23...</td>\n",
       "    </tr>\n",
       "    <tr>\n",
       "      <th>8</th>\n",
       "      <td>0.68</td>\n",
       "      <td>0.69</td>\n",
       "      <td>-0.79</td>\n",
       "      <td>{'polynomial__degree': 1, 'ridge__alpha': 1.79...</td>\n",
       "    </tr>\n",
       "    <tr>\n",
       "      <th>7</th>\n",
       "      <td>0.68</td>\n",
       "      <td>0.69</td>\n",
       "      <td>-0.79</td>\n",
       "      <td>{'polynomial__degree': 1, 'ridge__alpha': 1.66...</td>\n",
       "    </tr>\n",
       "    <tr>\n",
       "      <th>12</th>\n",
       "      <td>0.68</td>\n",
       "      <td>0.69</td>\n",
       "      <td>-0.79</td>\n",
       "      <td>{'polynomial__degree': 1, 'ridge__alpha': 2.40...</td>\n",
       "    </tr>\n",
       "    <tr>\n",
       "      <th>6</th>\n",
       "      <td>0.68</td>\n",
       "      <td>0.69</td>\n",
       "      <td>-0.79</td>\n",
       "      <td>{'polynomial__degree': 1, 'ridge__alpha': 1.54...</td>\n",
       "    </tr>\n",
       "    <tr>\n",
       "      <th>13</th>\n",
       "      <td>0.68</td>\n",
       "      <td>0.69</td>\n",
       "      <td>-0.79</td>\n",
       "      <td>{'polynomial__degree': 1, 'ridge__alpha': 2.58...</td>\n",
       "    </tr>\n",
       "    <tr>\n",
       "      <th>5</th>\n",
       "      <td>0.68</td>\n",
       "      <td>0.69</td>\n",
       "      <td>-0.79</td>\n",
       "      <td>{'polynomial__degree': 1, 'ridge__alpha': 1.44...</td>\n",
       "    </tr>\n",
       "    <tr>\n",
       "      <th>4</th>\n",
       "      <td>0.68</td>\n",
       "      <td>0.69</td>\n",
       "      <td>-0.79</td>\n",
       "      <td>{'polynomial__degree': 1, 'ridge__alpha': 1.33...</td>\n",
       "    </tr>\n",
       "    <tr>\n",
       "      <th>14</th>\n",
       "      <td>0.68</td>\n",
       "      <td>0.69</td>\n",
       "      <td>-0.79</td>\n",
       "      <td>{'polynomial__degree': 1, 'ridge__alpha': 2.77...</td>\n",
       "    </tr>\n",
       "    <tr>\n",
       "      <th>3</th>\n",
       "      <td>0.68</td>\n",
       "      <td>0.69</td>\n",
       "      <td>-0.79</td>\n",
       "      <td>{'polynomial__degree': 1, 'ridge__alpha': 1.24...</td>\n",
       "    </tr>\n",
       "    <tr>\n",
       "      <th>2</th>\n",
       "      <td>0.68</td>\n",
       "      <td>0.69</td>\n",
       "      <td>-0.79</td>\n",
       "      <td>{'polynomial__degree': 1, 'ridge__alpha': 1.15...</td>\n",
       "    </tr>\n",
       "    <tr>\n",
       "      <th>1</th>\n",
       "      <td>0.68</td>\n",
       "      <td>0.69</td>\n",
       "      <td>-0.79</td>\n",
       "      <td>{'polynomial__degree': 1, 'ridge__alpha': 1.07...</td>\n",
       "    </tr>\n",
       "    <tr>\n",
       "      <th>15</th>\n",
       "      <td>0.68</td>\n",
       "      <td>0.69</td>\n",
       "      <td>-0.79</td>\n",
       "      <td>{'polynomial__degree': 1, 'ridge__alpha': 2.98...</td>\n",
       "    </tr>\n",
       "    <tr>\n",
       "      <th>0</th>\n",
       "      <td>0.68</td>\n",
       "      <td>0.69</td>\n",
       "      <td>-0.79</td>\n",
       "      <td>{'polynomial__degree': 1, 'ridge__alpha': 1.0}</td>\n",
       "    </tr>\n",
       "    <tr>\n",
       "      <th>16</th>\n",
       "      <td>0.68</td>\n",
       "      <td>0.69</td>\n",
       "      <td>-0.79</td>\n",
       "      <td>{'polynomial__degree': 1, 'ridge__alpha': 3.21...</td>\n",
       "    </tr>\n",
       "    <tr>\n",
       "      <th>17</th>\n",
       "      <td>0.68</td>\n",
       "      <td>0.69</td>\n",
       "      <td>-0.79</td>\n",
       "      <td>{'polynomial__degree': 1, 'ridge__alpha': 3.45...</td>\n",
       "    </tr>\n",
       "    <tr>\n",
       "      <th>18</th>\n",
       "      <td>0.68</td>\n",
       "      <td>0.69</td>\n",
       "      <td>-0.79</td>\n",
       "      <td>{'polynomial__degree': 1, 'ridge__alpha': 3.71...</td>\n",
       "    </tr>\n",
       "    <tr>\n",
       "      <th>19</th>\n",
       "      <td>0.68</td>\n",
       "      <td>0.69</td>\n",
       "      <td>-0.79</td>\n",
       "      <td>{'polynomial__degree': 1, 'ridge__alpha': 4.0}</td>\n",
       "    </tr>\n",
       "    <tr>\n",
       "      <th>57</th>\n",
       "      <td>0.68</td>\n",
       "      <td>0.71</td>\n",
       "      <td>-0.79</td>\n",
       "      <td>{'polynomial__degree': 3, 'ridge__alpha': 3.45...</td>\n",
       "    </tr>\n",
       "    <tr>\n",
       "      <th>56</th>\n",
       "      <td>0.68</td>\n",
       "      <td>0.71</td>\n",
       "      <td>-0.79</td>\n",
       "      <td>{'polynomial__degree': 3, 'ridge__alpha': 3.21...</td>\n",
       "    </tr>\n",
       "    <tr>\n",
       "      <th>55</th>\n",
       "      <td>0.68</td>\n",
       "      <td>0.71</td>\n",
       "      <td>-0.79</td>\n",
       "      <td>{'polynomial__degree': 3, 'ridge__alpha': 2.98...</td>\n",
       "    </tr>\n",
       "    <tr>\n",
       "      <th>54</th>\n",
       "      <td>0.68</td>\n",
       "      <td>0.71</td>\n",
       "      <td>-0.79</td>\n",
       "      <td>{'polynomial__degree': 3, 'ridge__alpha': 2.77...</td>\n",
       "    </tr>\n",
       "    <tr>\n",
       "      <th>53</th>\n",
       "      <td>0.68</td>\n",
       "      <td>0.71</td>\n",
       "      <td>-0.79</td>\n",
       "      <td>{'polynomial__degree': 3, 'ridge__alpha': 2.58...</td>\n",
       "    </tr>\n",
       "    <tr>\n",
       "      <th>52</th>\n",
       "      <td>0.68</td>\n",
       "      <td>0.71</td>\n",
       "      <td>-0.79</td>\n",
       "      <td>{'polynomial__degree': 3, 'ridge__alpha': 2.40...</td>\n",
       "    </tr>\n",
       "    <tr>\n",
       "      <th>51</th>\n",
       "      <td>0.68</td>\n",
       "      <td>0.71</td>\n",
       "      <td>-0.79</td>\n",
       "      <td>{'polynomial__degree': 3, 'ridge__alpha': 2.23...</td>\n",
       "    </tr>\n",
       "    <tr>\n",
       "      <th>50</th>\n",
       "      <td>0.68</td>\n",
       "      <td>0.71</td>\n",
       "      <td>-0.79</td>\n",
       "      <td>{'polynomial__degree': 3, 'ridge__alpha': 2.07...</td>\n",
       "    </tr>\n",
       "    <tr>\n",
       "      <th>49</th>\n",
       "      <td>0.68</td>\n",
       "      <td>0.71</td>\n",
       "      <td>-0.79</td>\n",
       "      <td>{'polynomial__degree': 3, 'ridge__alpha': 1.92...</td>\n",
       "    </tr>\n",
       "    <tr>\n",
       "      <th>48</th>\n",
       "      <td>0.68</td>\n",
       "      <td>0.71</td>\n",
       "      <td>-0.79</td>\n",
       "      <td>{'polynomial__degree': 3, 'ridge__alpha': 1.79...</td>\n",
       "    </tr>\n",
       "    <tr>\n",
       "      <th>47</th>\n",
       "      <td>0.68</td>\n",
       "      <td>0.71</td>\n",
       "      <td>-0.79</td>\n",
       "      <td>{'polynomial__degree': 3, 'ridge__alpha': 1.66...</td>\n",
       "    </tr>\n",
       "    <tr>\n",
       "      <th>46</th>\n",
       "      <td>0.68</td>\n",
       "      <td>0.71</td>\n",
       "      <td>-0.79</td>\n",
       "      <td>{'polynomial__degree': 3, 'ridge__alpha': 1.54...</td>\n",
       "    </tr>\n",
       "    <tr>\n",
       "      <th>45</th>\n",
       "      <td>0.68</td>\n",
       "      <td>0.71</td>\n",
       "      <td>-0.79</td>\n",
       "      <td>{'polynomial__degree': 3, 'ridge__alpha': 1.44...</td>\n",
       "    </tr>\n",
       "    <tr>\n",
       "      <th>44</th>\n",
       "      <td>0.68</td>\n",
       "      <td>0.71</td>\n",
       "      <td>-0.79</td>\n",
       "      <td>{'polynomial__degree': 3, 'ridge__alpha': 1.33...</td>\n",
       "    </tr>\n",
       "    <tr>\n",
       "      <th>43</th>\n",
       "      <td>0.68</td>\n",
       "      <td>0.71</td>\n",
       "      <td>-0.79</td>\n",
       "      <td>{'polynomial__degree': 3, 'ridge__alpha': 1.24...</td>\n",
       "    </tr>\n",
       "    <tr>\n",
       "      <th>42</th>\n",
       "      <td>0.68</td>\n",
       "      <td>0.71</td>\n",
       "      <td>-0.79</td>\n",
       "      <td>{'polynomial__degree': 3, 'ridge__alpha': 1.15...</td>\n",
       "    </tr>\n",
       "    <tr>\n",
       "      <th>41</th>\n",
       "      <td>0.68</td>\n",
       "      <td>0.71</td>\n",
       "      <td>-0.79</td>\n",
       "      <td>{'polynomial__degree': 3, 'ridge__alpha': 1.07...</td>\n",
       "    </tr>\n",
       "    <tr>\n",
       "      <th>40</th>\n",
       "      <td>0.68</td>\n",
       "      <td>0.71</td>\n",
       "      <td>-0.79</td>\n",
       "      <td>{'polynomial__degree': 3, 'ridge__alpha': 1.0}</td>\n",
       "    </tr>\n",
       "  </tbody>\n",
       "</table>\n",
       "</div>"
      ],
      "text/plain": [
       "    mean_test_R2  mean_train_R2  mean_test_MSE  \\\n",
       "39          0.70           0.70          -0.75   \n",
       "38          0.70           0.70          -0.75   \n",
       "37          0.70           0.70          -0.75   \n",
       "36          0.70           0.70          -0.75   \n",
       "35          0.70           0.70          -0.75   \n",
       "34          0.70           0.70          -0.75   \n",
       "33          0.70           0.70          -0.75   \n",
       "32          0.70           0.70          -0.75   \n",
       "31          0.70           0.70          -0.75   \n",
       "30          0.70           0.70          -0.75   \n",
       "29          0.70           0.70          -0.75   \n",
       "28          0.70           0.70          -0.75   \n",
       "27          0.70           0.70          -0.75   \n",
       "26          0.70           0.70          -0.75   \n",
       "25          0.70           0.70          -0.75   \n",
       "24          0.70           0.70          -0.75   \n",
       "23          0.70           0.70          -0.75   \n",
       "22          0.70           0.70          -0.75   \n",
       "21          0.70           0.70          -0.75   \n",
       "20          0.70           0.70          -0.75   \n",
       "59          0.68           0.71          -0.78   \n",
       "58          0.68           0.71          -0.79   \n",
       "10          0.68           0.69          -0.79   \n",
       "9           0.68           0.69          -0.79   \n",
       "11          0.68           0.69          -0.79   \n",
       "8           0.68           0.69          -0.79   \n",
       "7           0.68           0.69          -0.79   \n",
       "12          0.68           0.69          -0.79   \n",
       "6           0.68           0.69          -0.79   \n",
       "13          0.68           0.69          -0.79   \n",
       "5           0.68           0.69          -0.79   \n",
       "4           0.68           0.69          -0.79   \n",
       "14          0.68           0.69          -0.79   \n",
       "3           0.68           0.69          -0.79   \n",
       "2           0.68           0.69          -0.79   \n",
       "1           0.68           0.69          -0.79   \n",
       "15          0.68           0.69          -0.79   \n",
       "0           0.68           0.69          -0.79   \n",
       "16          0.68           0.69          -0.79   \n",
       "17          0.68           0.69          -0.79   \n",
       "18          0.68           0.69          -0.79   \n",
       "19          0.68           0.69          -0.79   \n",
       "57          0.68           0.71          -0.79   \n",
       "56          0.68           0.71          -0.79   \n",
       "55          0.68           0.71          -0.79   \n",
       "54          0.68           0.71          -0.79   \n",
       "53          0.68           0.71          -0.79   \n",
       "52          0.68           0.71          -0.79   \n",
       "51          0.68           0.71          -0.79   \n",
       "50          0.68           0.71          -0.79   \n",
       "49          0.68           0.71          -0.79   \n",
       "48          0.68           0.71          -0.79   \n",
       "47          0.68           0.71          -0.79   \n",
       "46          0.68           0.71          -0.79   \n",
       "45          0.68           0.71          -0.79   \n",
       "44          0.68           0.71          -0.79   \n",
       "43          0.68           0.71          -0.79   \n",
       "42          0.68           0.71          -0.79   \n",
       "41          0.68           0.71          -0.79   \n",
       "40          0.68           0.71          -0.79   \n",
       "\n",
       "                                               params  \n",
       "39     {'polynomial__degree': 2, 'ridge__alpha': 4.0}  \n",
       "38  {'polynomial__degree': 2, 'ridge__alpha': 3.71...  \n",
       "37  {'polynomial__degree': 2, 'ridge__alpha': 3.45...  \n",
       "36  {'polynomial__degree': 2, 'ridge__alpha': 3.21...  \n",
       "35  {'polynomial__degree': 2, 'ridge__alpha': 2.98...  \n",
       "34  {'polynomial__degree': 2, 'ridge__alpha': 2.77...  \n",
       "33  {'polynomial__degree': 2, 'ridge__alpha': 2.58...  \n",
       "32  {'polynomial__degree': 2, 'ridge__alpha': 2.40...  \n",
       "31  {'polynomial__degree': 2, 'ridge__alpha': 2.23...  \n",
       "30  {'polynomial__degree': 2, 'ridge__alpha': 2.07...  \n",
       "29  {'polynomial__degree': 2, 'ridge__alpha': 1.92...  \n",
       "28  {'polynomial__degree': 2, 'ridge__alpha': 1.79...  \n",
       "27  {'polynomial__degree': 2, 'ridge__alpha': 1.66...  \n",
       "26  {'polynomial__degree': 2, 'ridge__alpha': 1.54...  \n",
       "25  {'polynomial__degree': 2, 'ridge__alpha': 1.44...  \n",
       "24  {'polynomial__degree': 2, 'ridge__alpha': 1.33...  \n",
       "23  {'polynomial__degree': 2, 'ridge__alpha': 1.24...  \n",
       "22  {'polynomial__degree': 2, 'ridge__alpha': 1.15...  \n",
       "21  {'polynomial__degree': 2, 'ridge__alpha': 1.07...  \n",
       "20     {'polynomial__degree': 2, 'ridge__alpha': 1.0}  \n",
       "59     {'polynomial__degree': 3, 'ridge__alpha': 4.0}  \n",
       "58  {'polynomial__degree': 3, 'ridge__alpha': 3.71...  \n",
       "10  {'polynomial__degree': 1, 'ridge__alpha': 2.07...  \n",
       "9   {'polynomial__degree': 1, 'ridge__alpha': 1.92...  \n",
       "11  {'polynomial__degree': 1, 'ridge__alpha': 2.23...  \n",
       "8   {'polynomial__degree': 1, 'ridge__alpha': 1.79...  \n",
       "7   {'polynomial__degree': 1, 'ridge__alpha': 1.66...  \n",
       "12  {'polynomial__degree': 1, 'ridge__alpha': 2.40...  \n",
       "6   {'polynomial__degree': 1, 'ridge__alpha': 1.54...  \n",
       "13  {'polynomial__degree': 1, 'ridge__alpha': 2.58...  \n",
       "5   {'polynomial__degree': 1, 'ridge__alpha': 1.44...  \n",
       "4   {'polynomial__degree': 1, 'ridge__alpha': 1.33...  \n",
       "14  {'polynomial__degree': 1, 'ridge__alpha': 2.77...  \n",
       "3   {'polynomial__degree': 1, 'ridge__alpha': 1.24...  \n",
       "2   {'polynomial__degree': 1, 'ridge__alpha': 1.15...  \n",
       "1   {'polynomial__degree': 1, 'ridge__alpha': 1.07...  \n",
       "15  {'polynomial__degree': 1, 'ridge__alpha': 2.98...  \n",
       "0      {'polynomial__degree': 1, 'ridge__alpha': 1.0}  \n",
       "16  {'polynomial__degree': 1, 'ridge__alpha': 3.21...  \n",
       "17  {'polynomial__degree': 1, 'ridge__alpha': 3.45...  \n",
       "18  {'polynomial__degree': 1, 'ridge__alpha': 3.71...  \n",
       "19     {'polynomial__degree': 1, 'ridge__alpha': 4.0}  \n",
       "57  {'polynomial__degree': 3, 'ridge__alpha': 3.45...  \n",
       "56  {'polynomial__degree': 3, 'ridge__alpha': 3.21...  \n",
       "55  {'polynomial__degree': 3, 'ridge__alpha': 2.98...  \n",
       "54  {'polynomial__degree': 3, 'ridge__alpha': 2.77...  \n",
       "53  {'polynomial__degree': 3, 'ridge__alpha': 2.58...  \n",
       "52  {'polynomial__degree': 3, 'ridge__alpha': 2.40...  \n",
       "51  {'polynomial__degree': 3, 'ridge__alpha': 2.23...  \n",
       "50  {'polynomial__degree': 3, 'ridge__alpha': 2.07...  \n",
       "49  {'polynomial__degree': 3, 'ridge__alpha': 1.92...  \n",
       "48  {'polynomial__degree': 3, 'ridge__alpha': 1.79...  \n",
       "47  {'polynomial__degree': 3, 'ridge__alpha': 1.66...  \n",
       "46  {'polynomial__degree': 3, 'ridge__alpha': 1.54...  \n",
       "45  {'polynomial__degree': 3, 'ridge__alpha': 1.44...  \n",
       "44  {'polynomial__degree': 3, 'ridge__alpha': 1.33...  \n",
       "43  {'polynomial__degree': 3, 'ridge__alpha': 1.24...  \n",
       "42  {'polynomial__degree': 3, 'ridge__alpha': 1.15...  \n",
       "41  {'polynomial__degree': 3, 'ridge__alpha': 1.07...  \n",
       "40     {'polynomial__degree': 3, 'ridge__alpha': 1.0}  "
      ]
     },
     "execution_count": 148,
     "metadata": {},
     "output_type": "execute_result"
    }
   ],
   "source": [
    "dict_results = dict()\n",
    "\n",
    "for i in ['mean_test_R2', 'mean_train_R2', 'mean_test_MSE','params']:\n",
    "    if i == 'params':\n",
    "        dict_results[i] = search_ridge.cv_results_[i]\n",
    "        continue\n",
    "    dict_results[i] = search_ridge.cv_results_[i]\n",
    "\n",
    "pd.DataFrame(dict_results).sort_values(by = ['mean_test_R2'], ascending = False)"
   ]
  },
  {
   "cell_type": "code",
   "execution_count": null,
   "id": "b56e0c35",
   "metadata": {},
   "outputs": [],
   "source": []
  }
 ],
 "metadata": {
  "kernelspec": {
   "display_name": "Python 3",
   "language": "python",
   "name": "python3"
  },
  "language_info": {
   "codemirror_mode": {
    "name": "ipython",
    "version": 3
   },
   "file_extension": ".py",
   "mimetype": "text/x-python",
   "name": "python",
   "nbconvert_exporter": "python",
   "pygments_lexer": "ipython3",
   "version": "3.8.8"
  }
 },
 "nbformat": 4,
 "nbformat_minor": 5
}
